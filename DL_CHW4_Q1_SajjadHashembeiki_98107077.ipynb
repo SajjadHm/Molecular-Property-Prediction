{
  "nbformat": 4,
  "nbformat_minor": 0,
  "metadata": {
    "colab": {
      "provenance": [],
      "collapsed_sections": [
        "SfWuJQgPPiqr",
        "15ERVOh7nGNH",
        "Ia53NZ1OECEP",
        "IbbQXfHsfc-1",
        "I_DCGWSJm5il",
        "7BJkPJ14srBR",
        "CQd2jUsXsSfX",
        "K7j0AGKU7hHW"
      ],
      "gpuType": "T4"
    },
    "kernelspec": {
      "name": "python3",
      "display_name": "Python 3"
    },
    "language_info": {
      "name": "python"
    },
    "accelerator": "GPU"
  },
  "cells": [
    {
      "cell_type": "code",
      "execution_count": 1,
      "metadata": {
        "id": "EqyqVE8gGZfp"
      },
      "outputs": [],
      "source": [
        "# Import libraries\n",
        "import tqdm\n",
        "import torch\n",
        "import random\n",
        "import torchvision\n",
        "\n",
        "import numpy as np\n",
        "import pandas as pd\n",
        "import torch.nn as nn\n",
        "import torch.optim as optim\n",
        "import torch.nn.functional as F\n",
        "import matplotlib.pyplot as plt\n",
        "import torchvision.utils as vutils\n",
        "\n",
        "from torch.utils.data import DataLoader\n",
        "from sklearn.metrics import accuracy_score\n",
        "from torchvision import datasets, transforms\n",
        "from sklearn.model_selection import StratifiedKFold\n",
        "from sklearn.model_selection import train_test_split\n",
        "from torch.utils.data import DataLoader, TensorDataset"
      ]
    },
    {
      "cell_type": "markdown",
      "source": [
        "# Part A"
      ],
      "metadata": {
        "id": "SfWuJQgPPiqr"
      }
    },
    {
      "cell_type": "code",
      "source": [
        "# Load dataset\n",
        "df = pd.read_csv('/content/BBBP.csv')\n",
        "df"
      ],
      "metadata": {
        "id": "gmo8BJBiHjFV",
        "colab": {
          "base_uri": "https://localhost:8080/",
          "height": 423
        },
        "outputId": "4da8c407-c46c-4790-8275-5421ab0868b6"
      },
      "execution_count": 4,
      "outputs": [
        {
          "output_type": "execute_result",
          "data": {
            "text/plain": [
              "       num                               name  p_np  \\\n",
              "0        1                         Propanolol     1   \n",
              "1        2               Terbutylchlorambucil     1   \n",
              "2        3                              40730     1   \n",
              "3        4                                 24     1   \n",
              "4        5                        cloxacillin     1   \n",
              "...    ...                                ...   ...   \n",
              "2045  2049                         licostinel     1   \n",
              "2046  2050  ademetionine(adenosyl-methionine)     1   \n",
              "2047  2051                           mesocarb     1   \n",
              "2048  2052                         tofisoline     1   \n",
              "2049  2053                      azidamfenicol     1   \n",
              "\n",
              "                                                 smiles  \n",
              "0                      [Cl].CC(C)NCC(O)COc1cccc2ccccc12  \n",
              "1              C(=O)(OC(C)(C)C)CCCc1ccc(cc1)N(CCCl)CCCl  \n",
              "2     c12c3c(N4CCN(C)CC4)c(F)cc1c(c(C(O)=O)cn2C(C)CO...  \n",
              "3                      C1CCN(CC1)Cc1cccc(c1)OCCCNC(=O)C  \n",
              "4     Cc1onc(c2ccccc2Cl)c1C(=O)N[C@H]3[C@H]4SC(C)(C)...  \n",
              "...                                                 ...  \n",
              "2045    C1=C(Cl)C(=C(C2=C1NC(=O)C(N2)=O)[N+](=O)[O-])Cl  \n",
              "2046  [C@H]3([N]2C1=C(C(=NC=N1)N)N=C2)[C@@H]([C@@H](...  \n",
              "2047  [O+]1=N[N](C=C1[N-]C(NC2=CC=CC=C2)=O)C(CC3=CC=...  \n",
              "2048  C1=C(OC)C(=CC2=C1C(=[N+](C(=C2CC)C)[NH-])C3=CC...  \n",
              "2049  [N+](=NCC(=O)N[C@@H]([C@H](O)C1=CC=C([N+]([O-]...  \n",
              "\n",
              "[2050 rows x 4 columns]"
            ],
            "text/html": [
              "\n",
              "  <div id=\"df-2d04a9f9-85bc-426c-8137-4249f5178622\" class=\"colab-df-container\">\n",
              "    <div>\n",
              "<style scoped>\n",
              "    .dataframe tbody tr th:only-of-type {\n",
              "        vertical-align: middle;\n",
              "    }\n",
              "\n",
              "    .dataframe tbody tr th {\n",
              "        vertical-align: top;\n",
              "    }\n",
              "\n",
              "    .dataframe thead th {\n",
              "        text-align: right;\n",
              "    }\n",
              "</style>\n",
              "<table border=\"1\" class=\"dataframe\">\n",
              "  <thead>\n",
              "    <tr style=\"text-align: right;\">\n",
              "      <th></th>\n",
              "      <th>num</th>\n",
              "      <th>name</th>\n",
              "      <th>p_np</th>\n",
              "      <th>smiles</th>\n",
              "    </tr>\n",
              "  </thead>\n",
              "  <tbody>\n",
              "    <tr>\n",
              "      <th>0</th>\n",
              "      <td>1</td>\n",
              "      <td>Propanolol</td>\n",
              "      <td>1</td>\n",
              "      <td>[Cl].CC(C)NCC(O)COc1cccc2ccccc12</td>\n",
              "    </tr>\n",
              "    <tr>\n",
              "      <th>1</th>\n",
              "      <td>2</td>\n",
              "      <td>Terbutylchlorambucil</td>\n",
              "      <td>1</td>\n",
              "      <td>C(=O)(OC(C)(C)C)CCCc1ccc(cc1)N(CCCl)CCCl</td>\n",
              "    </tr>\n",
              "    <tr>\n",
              "      <th>2</th>\n",
              "      <td>3</td>\n",
              "      <td>40730</td>\n",
              "      <td>1</td>\n",
              "      <td>c12c3c(N4CCN(C)CC4)c(F)cc1c(c(C(O)=O)cn2C(C)CO...</td>\n",
              "    </tr>\n",
              "    <tr>\n",
              "      <th>3</th>\n",
              "      <td>4</td>\n",
              "      <td>24</td>\n",
              "      <td>1</td>\n",
              "      <td>C1CCN(CC1)Cc1cccc(c1)OCCCNC(=O)C</td>\n",
              "    </tr>\n",
              "    <tr>\n",
              "      <th>4</th>\n",
              "      <td>5</td>\n",
              "      <td>cloxacillin</td>\n",
              "      <td>1</td>\n",
              "      <td>Cc1onc(c2ccccc2Cl)c1C(=O)N[C@H]3[C@H]4SC(C)(C)...</td>\n",
              "    </tr>\n",
              "    <tr>\n",
              "      <th>...</th>\n",
              "      <td>...</td>\n",
              "      <td>...</td>\n",
              "      <td>...</td>\n",
              "      <td>...</td>\n",
              "    </tr>\n",
              "    <tr>\n",
              "      <th>2045</th>\n",
              "      <td>2049</td>\n",
              "      <td>licostinel</td>\n",
              "      <td>1</td>\n",
              "      <td>C1=C(Cl)C(=C(C2=C1NC(=O)C(N2)=O)[N+](=O)[O-])Cl</td>\n",
              "    </tr>\n",
              "    <tr>\n",
              "      <th>2046</th>\n",
              "      <td>2050</td>\n",
              "      <td>ademetionine(adenosyl-methionine)</td>\n",
              "      <td>1</td>\n",
              "      <td>[C@H]3([N]2C1=C(C(=NC=N1)N)N=C2)[C@@H]([C@@H](...</td>\n",
              "    </tr>\n",
              "    <tr>\n",
              "      <th>2047</th>\n",
              "      <td>2051</td>\n",
              "      <td>mesocarb</td>\n",
              "      <td>1</td>\n",
              "      <td>[O+]1=N[N](C=C1[N-]C(NC2=CC=CC=C2)=O)C(CC3=CC=...</td>\n",
              "    </tr>\n",
              "    <tr>\n",
              "      <th>2048</th>\n",
              "      <td>2052</td>\n",
              "      <td>tofisoline</td>\n",
              "      <td>1</td>\n",
              "      <td>C1=C(OC)C(=CC2=C1C(=[N+](C(=C2CC)C)[NH-])C3=CC...</td>\n",
              "    </tr>\n",
              "    <tr>\n",
              "      <th>2049</th>\n",
              "      <td>2053</td>\n",
              "      <td>azidamfenicol</td>\n",
              "      <td>1</td>\n",
              "      <td>[N+](=NCC(=O)N[C@@H]([C@H](O)C1=CC=C([N+]([O-]...</td>\n",
              "    </tr>\n",
              "  </tbody>\n",
              "</table>\n",
              "<p>2050 rows × 4 columns</p>\n",
              "</div>\n",
              "    <div class=\"colab-df-buttons\">\n",
              "\n",
              "  <div class=\"colab-df-container\">\n",
              "    <button class=\"colab-df-convert\" onclick=\"convertToInteractive('df-2d04a9f9-85bc-426c-8137-4249f5178622')\"\n",
              "            title=\"Convert this dataframe to an interactive table.\"\n",
              "            style=\"display:none;\">\n",
              "\n",
              "  <svg xmlns=\"http://www.w3.org/2000/svg\" height=\"24px\" viewBox=\"0 -960 960 960\">\n",
              "    <path d=\"M120-120v-720h720v720H120Zm60-500h600v-160H180v160Zm220 220h160v-160H400v160Zm0 220h160v-160H400v160ZM180-400h160v-160H180v160Zm440 0h160v-160H620v160ZM180-180h160v-160H180v160Zm440 0h160v-160H620v160Z\"/>\n",
              "  </svg>\n",
              "    </button>\n",
              "\n",
              "  <style>\n",
              "    .colab-df-container {\n",
              "      display:flex;\n",
              "      gap: 12px;\n",
              "    }\n",
              "\n",
              "    .colab-df-convert {\n",
              "      background-color: #E8F0FE;\n",
              "      border: none;\n",
              "      border-radius: 50%;\n",
              "      cursor: pointer;\n",
              "      display: none;\n",
              "      fill: #1967D2;\n",
              "      height: 32px;\n",
              "      padding: 0 0 0 0;\n",
              "      width: 32px;\n",
              "    }\n",
              "\n",
              "    .colab-df-convert:hover {\n",
              "      background-color: #E2EBFA;\n",
              "      box-shadow: 0px 1px 2px rgba(60, 64, 67, 0.3), 0px 1px 3px 1px rgba(60, 64, 67, 0.15);\n",
              "      fill: #174EA6;\n",
              "    }\n",
              "\n",
              "    .colab-df-buttons div {\n",
              "      margin-bottom: 4px;\n",
              "    }\n",
              "\n",
              "    [theme=dark] .colab-df-convert {\n",
              "      background-color: #3B4455;\n",
              "      fill: #D2E3FC;\n",
              "    }\n",
              "\n",
              "    [theme=dark] .colab-df-convert:hover {\n",
              "      background-color: #434B5C;\n",
              "      box-shadow: 0px 1px 3px 1px rgba(0, 0, 0, 0.15);\n",
              "      filter: drop-shadow(0px 1px 2px rgba(0, 0, 0, 0.3));\n",
              "      fill: #FFFFFF;\n",
              "    }\n",
              "  </style>\n",
              "\n",
              "    <script>\n",
              "      const buttonEl =\n",
              "        document.querySelector('#df-2d04a9f9-85bc-426c-8137-4249f5178622 button.colab-df-convert');\n",
              "      buttonEl.style.display =\n",
              "        google.colab.kernel.accessAllowed ? 'block' : 'none';\n",
              "\n",
              "      async function convertToInteractive(key) {\n",
              "        const element = document.querySelector('#df-2d04a9f9-85bc-426c-8137-4249f5178622');\n",
              "        const dataTable =\n",
              "          await google.colab.kernel.invokeFunction('convertToInteractive',\n",
              "                                                    [key], {});\n",
              "        if (!dataTable) return;\n",
              "\n",
              "        const docLinkHtml = 'Like what you see? Visit the ' +\n",
              "          '<a target=\"_blank\" href=https://colab.research.google.com/notebooks/data_table.ipynb>data table notebook</a>'\n",
              "          + ' to learn more about interactive tables.';\n",
              "        element.innerHTML = '';\n",
              "        dataTable['output_type'] = 'display_data';\n",
              "        await google.colab.output.renderOutput(dataTable, element);\n",
              "        const docLink = document.createElement('div');\n",
              "        docLink.innerHTML = docLinkHtml;\n",
              "        element.appendChild(docLink);\n",
              "      }\n",
              "    </script>\n",
              "  </div>\n",
              "\n",
              "\n",
              "<div id=\"df-12dbc645-714c-45f5-b551-87c9ab43a0e5\">\n",
              "  <button class=\"colab-df-quickchart\" onclick=\"quickchart('df-12dbc645-714c-45f5-b551-87c9ab43a0e5')\"\n",
              "            title=\"Suggest charts\"\n",
              "            style=\"display:none;\">\n",
              "\n",
              "<svg xmlns=\"http://www.w3.org/2000/svg\" height=\"24px\"viewBox=\"0 0 24 24\"\n",
              "     width=\"24px\">\n",
              "    <g>\n",
              "        <path d=\"M19 3H5c-1.1 0-2 .9-2 2v14c0 1.1.9 2 2 2h14c1.1 0 2-.9 2-2V5c0-1.1-.9-2-2-2zM9 17H7v-7h2v7zm4 0h-2V7h2v10zm4 0h-2v-4h2v4z\"/>\n",
              "    </g>\n",
              "</svg>\n",
              "  </button>\n",
              "\n",
              "<style>\n",
              "  .colab-df-quickchart {\n",
              "      --bg-color: #E8F0FE;\n",
              "      --fill-color: #1967D2;\n",
              "      --hover-bg-color: #E2EBFA;\n",
              "      --hover-fill-color: #174EA6;\n",
              "      --disabled-fill-color: #AAA;\n",
              "      --disabled-bg-color: #DDD;\n",
              "  }\n",
              "\n",
              "  [theme=dark] .colab-df-quickchart {\n",
              "      --bg-color: #3B4455;\n",
              "      --fill-color: #D2E3FC;\n",
              "      --hover-bg-color: #434B5C;\n",
              "      --hover-fill-color: #FFFFFF;\n",
              "      --disabled-bg-color: #3B4455;\n",
              "      --disabled-fill-color: #666;\n",
              "  }\n",
              "\n",
              "  .colab-df-quickchart {\n",
              "    background-color: var(--bg-color);\n",
              "    border: none;\n",
              "    border-radius: 50%;\n",
              "    cursor: pointer;\n",
              "    display: none;\n",
              "    fill: var(--fill-color);\n",
              "    height: 32px;\n",
              "    padding: 0;\n",
              "    width: 32px;\n",
              "  }\n",
              "\n",
              "  .colab-df-quickchart:hover {\n",
              "    background-color: var(--hover-bg-color);\n",
              "    box-shadow: 0 1px 2px rgba(60, 64, 67, 0.3), 0 1px 3px 1px rgba(60, 64, 67, 0.15);\n",
              "    fill: var(--button-hover-fill-color);\n",
              "  }\n",
              "\n",
              "  .colab-df-quickchart-complete:disabled,\n",
              "  .colab-df-quickchart-complete:disabled:hover {\n",
              "    background-color: var(--disabled-bg-color);\n",
              "    fill: var(--disabled-fill-color);\n",
              "    box-shadow: none;\n",
              "  }\n",
              "\n",
              "  .colab-df-spinner {\n",
              "    border: 2px solid var(--fill-color);\n",
              "    border-color: transparent;\n",
              "    border-bottom-color: var(--fill-color);\n",
              "    animation:\n",
              "      spin 1s steps(1) infinite;\n",
              "  }\n",
              "\n",
              "  @keyframes spin {\n",
              "    0% {\n",
              "      border-color: transparent;\n",
              "      border-bottom-color: var(--fill-color);\n",
              "      border-left-color: var(--fill-color);\n",
              "    }\n",
              "    20% {\n",
              "      border-color: transparent;\n",
              "      border-left-color: var(--fill-color);\n",
              "      border-top-color: var(--fill-color);\n",
              "    }\n",
              "    30% {\n",
              "      border-color: transparent;\n",
              "      border-left-color: var(--fill-color);\n",
              "      border-top-color: var(--fill-color);\n",
              "      border-right-color: var(--fill-color);\n",
              "    }\n",
              "    40% {\n",
              "      border-color: transparent;\n",
              "      border-right-color: var(--fill-color);\n",
              "      border-top-color: var(--fill-color);\n",
              "    }\n",
              "    60% {\n",
              "      border-color: transparent;\n",
              "      border-right-color: var(--fill-color);\n",
              "    }\n",
              "    80% {\n",
              "      border-color: transparent;\n",
              "      border-right-color: var(--fill-color);\n",
              "      border-bottom-color: var(--fill-color);\n",
              "    }\n",
              "    90% {\n",
              "      border-color: transparent;\n",
              "      border-bottom-color: var(--fill-color);\n",
              "    }\n",
              "  }\n",
              "</style>\n",
              "\n",
              "  <script>\n",
              "    async function quickchart(key) {\n",
              "      const quickchartButtonEl =\n",
              "        document.querySelector('#' + key + ' button');\n",
              "      quickchartButtonEl.disabled = true;  // To prevent multiple clicks.\n",
              "      quickchartButtonEl.classList.add('colab-df-spinner');\n",
              "      try {\n",
              "        const charts = await google.colab.kernel.invokeFunction(\n",
              "            'suggestCharts', [key], {});\n",
              "      } catch (error) {\n",
              "        console.error('Error during call to suggestCharts:', error);\n",
              "      }\n",
              "      quickchartButtonEl.classList.remove('colab-df-spinner');\n",
              "      quickchartButtonEl.classList.add('colab-df-quickchart-complete');\n",
              "    }\n",
              "    (() => {\n",
              "      let quickchartButtonEl =\n",
              "        document.querySelector('#df-12dbc645-714c-45f5-b551-87c9ab43a0e5 button');\n",
              "      quickchartButtonEl.style.display =\n",
              "        google.colab.kernel.accessAllowed ? 'block' : 'none';\n",
              "    })();\n",
              "  </script>\n",
              "</div>\n",
              "    </div>\n",
              "  </div>\n"
            ]
          },
          "metadata": {},
          "execution_count": 4
        }
      ]
    },
    {
      "cell_type": "markdown",
      "source": [
        "As you see in following plot, the classes are unbalanced and in traing the model I solved this by using BCLWithLogitsLoss function with weights."
      ],
      "metadata": {
        "id": "j-iiEA3wPpxE"
      }
    },
    {
      "source": [
        "df['p_np'].plot(kind='hist', bins=20, title='p_np')\n",
        "plt.gca().spines[['top', 'right',]].set_visible(False)"
      ],
      "cell_type": "code",
      "metadata": {
        "colab": {
          "base_uri": "https://localhost:8080/",
          "height": 452
        },
        "id": "jSKPmJKWDMPz",
        "outputId": "7ccc1bce-0ae0-4243-dcd4-04774b59c3c4"
      },
      "execution_count": 9,
      "outputs": [
        {
          "output_type": "display_data",
          "data": {
            "text/plain": [
              "<Figure size 640x480 with 1 Axes>"
            ],
            "image/png": "[encoded data removed]"
          },
          "metadata": {}
        }
      ]
    },
    {
      "cell_type": "markdown",
      "source": [
        "Following function tokenize SMILEs formula and then adds a new column to dataframe which contains the tokenized SMILE."
      ],
      "metadata": {
        "id": "4GGX7W7_QEq4"
      }
    },
    {
      "cell_type": "code",
      "source": [
        "def tokenize_smiles(smiles):\n",
        "\n",
        "    tokens = []\n",
        "    i = 0\n",
        "    while i < len(smiles):\n",
        "        # Check if the current and next characters form a two-character element\n",
        "        current_char = smiles[i]\n",
        "        next_char = smiles[i + 1] if i + 1 < len(smiles) else None\n",
        "        if next_char is not None and current_char + next_char in ['Br', 'Cl', '@@']:\n",
        "            tokens.append(current_char + next_char)\n",
        "            i += 2\n",
        "        else:\n",
        "            tokens.append(current_char)\n",
        "            i += 1\n",
        "    return tokens\n",
        "\n",
        "# apply the function on all rows of the dataframe\n",
        "df['tokenized'] = df['smiles'].apply(tokenize_smiles)"
      ],
      "metadata": {
        "id": "b8E9Bn0RQA_k"
      },
      "execution_count": 5,
      "outputs": []
    },
    {
      "cell_type": "markdown",
      "source": [
        "Following function store the tokenized SMILEs in a set to get the unique tokens."
      ],
      "metadata": {
        "id": "dEihzvgMQnZB"
      }
    },
    {
      "cell_type": "code",
      "source": [
        "unique_tokens = set()\n",
        "for row in df['tokenized'].values :\n",
        "    for token in row:\n",
        "        unique_tokens.add(token)\n",
        "\n",
        "unique_tokens_list = list(unique_tokens)"
      ],
      "metadata": {
        "id": "WQMAv1L9Qmz_"
      },
      "execution_count": 6,
      "outputs": []
    },
    {
      "cell_type": "markdown",
      "source": [
        " In the next cell  I created a token dictionary that maps each token to an index for create one hot encoding."
      ],
      "metadata": {
        "id": "Kx7ggCwrQ-Ci"
      }
    },
    {
      "cell_type": "code",
      "source": [
        "token_dict = {}\n",
        "for  idx, token in enumerate(unique_tokens_list):\n",
        "    token_dict[token] = idx\n",
        "print(token_dict)"
      ],
      "metadata": {
        "colab": {
          "base_uri": "https://localhost:8080/"
        },
        "id": "4QgZLB6znS8c",
        "outputId": "cf1cf9c8-a646-4bb8-d945-7abbe470b755"
      },
      "execution_count": 7,
      "outputs": [
        {
          "output_type": "stream",
          "name": "stdout",
          "text": [
            "{'B': 0, '\\\\': 1, '6': 2, '.': 3, ']': 4, ')': 5, 'n': 6, 'S': 7, '+': 8, '0': 9, '1': 10, '4': 11, '2': 12, 'a': 13, 'O': 14, '-': 15, 'I': 16, '#': 17, 's': 18, '3': 19, '%': 20, '8': 21, '7': 22, 'o': 23, '=': 24, 'H': 25, 'c': 26, 'P': 27, 'N': 28, 'Br': 29, '5': 30, 'Cl': 31, 'C': 32, 'F': 33, '@': 34, '@@': 35, '(': 36, '/': 37, '9': 38, '[': 39}\n"
          ]
        }
      ]
    },
    {
      "cell_type": "markdown",
      "source": [
        "Now I calculated the length of tokenized SMILEs and then plot the lengthes."
      ],
      "metadata": {
        "id": "WptZCrmSRuWa"
      }
    },
    {
      "cell_type": "code",
      "source": [
        "# Apply len function on all row of the tokenized column\n",
        "lengthes = df['tokenized'].apply(lambda x : len(x))\n",
        "\n",
        "# plot histogram of lengthes\n",
        "plt.hist(lengthes , bins=20)\n",
        "plt.title('Histogram of SMILE Length')\n",
        "plt.xlabel('Length')\n",
        "plt.ylabel('Frequency')\n",
        "plt.show()"
      ],
      "metadata": {
        "colab": {
          "base_uri": "https://localhost:8080/",
          "height": 472
        },
        "id": "H4UOGe5DRttJ",
        "outputId": "0f6f37b4-d870-4303-fb82-d9bad7940b20"
      },
      "execution_count": 12,
      "outputs": [
        {
          "output_type": "display_data",
          "data": {
            "text/plain": [
              "<Figure size 640x480 with 1 Axes>"
            ],
            "image/png": "[encoded data removed]"
          },
          "metadata": {}
        }
      ]
    },
    {
      "cell_type": "code",
      "source": [
        "# Get length statistics\n",
        "max_length = np.max(lengthes)\n",
        "min_length = np.min(lengthes)\n",
        "avg_length = np.mean(lengthes)\n",
        "print(f'Max length in the data set is {max_length} , Min length is {min_length},\\n and the average length in tokenized SMILE is about {avg_length.round()}.')"
      ],
      "metadata": {
        "colab": {
          "base_uri": "https://localhost:8080/"
        },
        "id": "h6MpwZ8tTQKm",
        "outputId": "e87a5d1f-a816-4d9a-c4b5-4900b25d6c56"
      },
      "execution_count": 14,
      "outputs": [
        {
          "output_type": "stream",
          "name": "stdout",
          "text": [
            "Max length in the data set is 384 , Min length is 3,\n",
            " and the average length in tokenized SMILE is 51.0.\n"
          ]
        }
      ]
    },
    {
      "cell_type": "markdown",
      "source": [
        "In following cell I calculated the frequency of each token and store the number of them in a dictionary and finally plot the frequency of tokens."
      ],
      "metadata": {
        "id": "WEUPf4hZXJCi"
      }
    },
    {
      "cell_type": "code",
      "source": [
        "# Calculate frequency of each token\n",
        "token_frequency_dict = {}\n",
        "for idx, token in enumerate(unique_tokens_list):\n",
        "    token_frequency_dict[token] = 0\n",
        "\n",
        "for smile in df['tokenized']:\n",
        "    for token in smile:\n",
        "        token_frequency_dict[token] +=1\n",
        "\n",
        "print(token_frequency_dict)"
      ],
      "metadata": {
        "colab": {
          "base_uri": "https://localhost:8080/"
        },
        "id": "9PoqMH8UVJRR",
        "outputId": "5bb5f498-fcc4-4749-b06b-6612fa177da2"
      },
      "execution_count": 15,
      "outputs": [
        {
          "output_type": "stream",
          "name": "stdout",
          "text": [
            "{'B': 1, '\\\\': 203, '6': 124, '.': 163, ']': 3479, ')': 10491, 'n': 515, 'S': 510, '+': 121, '0': 8, '1': 4128, '4': 1438, '2': 3370, 'a': 22, 'O': 6208, '-': 123, 'I': 6, '#': 53, 's': 72, '3': 2553, '%': 24, '8': 28, '7': 56, 'o': 49, '=': 8034, 'H': 2392, 'c': 6937, 'P': 11, 'N': 3954, 'Br': 51, '5': 454, 'Cl': 618, 'C': 29784, 'F': 509, '@': 1692, '@@': 1251, '(': 10491, '/': 184, '9': 16, '[': 3479}\n"
          ]
        }
      ]
    },
    {
      "cell_type": "code",
      "source": [
        "# Extract keys and values from the dictionary\n",
        "tokens = list(token_frequency_dict.keys())\n",
        "counts = list(token_frequency_dict.values())\n",
        "\n",
        "# adjust the width\n",
        "bar_width = 0.5\n",
        "\n",
        "# Plotting the bar histogram\n",
        "plt.bar(tokens, counts,width=bar_width, color='blue')\n",
        "\n",
        "# Adding labels and title\n",
        "plt.xlabel('Tokens')\n",
        "plt.ylabel('Frequency')\n",
        "plt.title('Bar Histogram of Tokens')\n",
        "plt.show()"
      ],
      "metadata": {
        "colab": {
          "base_uri": "https://localhost:8080/",
          "height": 472
        },
        "id": "OTt1TQOYXMw-",
        "outputId": "6e25b18f-a83b-44df-85c7-1d4bdf6961fb"
      },
      "execution_count": 18,
      "outputs": [
        {
          "output_type": "display_data",
          "data": {
            "text/plain": [
              "<Figure size 640x480 with 1 Axes>"
            ],
            "image/png": "[encoded data removed]"
          },
          "metadata": {}
        }
      ]
    },
    {
      "cell_type": "markdown",
      "source": [
        "The most frequent token is the C (Carbon atom) and the least one is B (Boron atom)."
      ],
      "metadata": {
        "id": "F8Sb8_dAfMlF"
      }
    },
    {
      "cell_type": "markdown",
      "source": [
        "# Part B"
      ],
      "metadata": {
        "id": "15ERVOh7nGNH"
      }
    },
    {
      "cell_type": "code",
      "source": [
        "# make multi hot vector for each SMILE formula to feed to MLP\n",
        "list_of_multi_hots = []\n",
        "for row in df['tokenized']:\n",
        "    multi_hot = np.zeros(len(unique_tokens_list)) # 40\n",
        "    for token in row:\n",
        "        idx = token_dict[token]\n",
        "        multi_hot[idx] = 1\n",
        "\n",
        "    list_of_multi_hots.append(multi_hot)"
      ],
      "metadata": {
        "id": "aX_6UihEpN1W"
      },
      "execution_count": 42,
      "outputs": []
    },
    {
      "cell_type": "code",
      "source": [
        "df['Multi hot for MLP'] = list_of_multi_hots"
      ],
      "metadata": {
        "id": "gwDvqJ83pf8W"
      },
      "execution_count": 43,
      "outputs": []
    },
    {
      "cell_type": "code",
      "source": [
        "# Set device\n",
        "device = torch.device(\"cuda:0\" if torch.cuda.is_available() else \"cpu\")\n",
        "\n",
        "# X shape : 2050x40\n",
        "X = np.array(df['Multi hot for MLP'].to_list())\n",
        "y = np.array(df['p_np'].to_list())\n",
        "\n",
        "# Split the data into training and testing sets\n",
        "X_train, X_test, y_train, y_test = train_test_split(X, y, test_size=0.2, random_state=42)\n",
        "\n",
        "# Convert data to tensors\n",
        "X_train_tensor = torch.tensor(X_train, dtype=torch.float32).to(device)\n",
        "y_train_tensor = torch.tensor(y_train, dtype=torch.float32).to(device)\n",
        "X_test_tensor = torch.tensor(X_test, dtype=torch.float32).to(device)\n",
        "y_test_tensor = torch.tensor(y_test, dtype=torch.float32).to(device)\n",
        "\n",
        "# Create a simple fully connected neural network\n",
        "class FCModel(nn.Module):\n",
        "    def __init__(self, input_size):\n",
        "        super(FCModel, self).__init__()\n",
        "        self.fc1 = nn.Linear(input_size, 10)\n",
        "        self.relu = nn.ReLU()\n",
        "        self.fc2 = nn.Linear(10, 1)\n",
        "        self.sigmoid = nn.Sigmoid()\n",
        "\n",
        "    def forward(self, x):\n",
        "        x = self.fc1(x)\n",
        "        x = self.relu(x)\n",
        "        x = self.fc2(x)\n",
        "        x = self.sigmoid(x)\n",
        "        return x\n",
        "\n",
        "# Define weights for positive and negative classes (pos_weight is around 0.3)\n",
        "pos_weight = torch.tensor((y_train == 0).sum() / (y_train == 1).sum(), dtype=torch.float32)\n",
        "\n",
        "# Initialize the model, loss function, and optimizer\n",
        "fcModel = FCModel(input_size=X_train.shape[1]).to(device)\n",
        "criterion = nn.BCEWithLogitsLoss(pos_weight=pos_weight).to(device)\n",
        "optimizer = optim.Adam(fcModel.parameters(), lr=0.001)\n",
        "\n",
        "# Train the model\n",
        "num_epochs = 10\n",
        "batch_size = 32\n",
        "train_dataset = TensorDataset(X_train_tensor, y_train_tensor)\n",
        "train_loader = DataLoader(train_dataset, batch_size=batch_size, shuffle=True)\n",
        "\n",
        "for epoch in range(num_epochs):\n",
        "\n",
        "    fcModel.train()\n",
        "    total_loss = 0.0\n",
        "    correct_predictions = 0\n",
        "    total_samples = 0\n",
        "\n",
        "    for batch_X, batch_y in tqdm.tqdm(train_loader):\n",
        "        optimizer.zero_grad()\n",
        "        outputs = fcModel(batch_X)\n",
        "        loss = criterion(outputs, batch_y.view(-1, 1))\n",
        "        loss.backward()\n",
        "        optimizer.step()\n",
        "\n",
        "        # Update statistics\n",
        "        total_loss += loss.item()\n",
        "        predicted_labels = (fcModel.sigmoid(outputs) >= 0.5).float()\n",
        "        correct_predictions += torch.sum(predicted_labels.view(-1) == batch_y).item()\n",
        "        total_samples += len(batch_y)\n",
        "\n",
        "    # Calculate epoch-level statistics\n",
        "    average_loss = total_loss / len(train_loader)\n",
        "    accuracy = correct_predictions / total_samples\n",
        "\n",
        "    # Print epoch-level information\n",
        "    print(f\"\\n Epoch {epoch + 1}/{num_epochs},  Train Loss: {average_loss:.4f}, Train Accuracy: {accuracy * 100:.2f}%\")\n",
        "\n",
        "\n",
        "# Evaluate the model on the test set\n",
        "with torch.no_grad():\n",
        "    fcModel.eval()\n",
        "    test_outputs = fcModel(X_test_tensor)\n",
        "    predicted_labels = (fcModel.sigmoid(test_outputs) >= 0.5).float()\n",
        "    accuracy = torch.sum(predicted_labels.view(-1) == y_test_tensor).item() / len(y_test_tensor)\n",
        "\n",
        "print(f\"Accuracy on the test set: {accuracy * 100:.2f}%\")"
      ],
      "metadata": {
        "colab": {
          "base_uri": "https://localhost:8080/"
        },
        "id": "CPNHSp9OsSv1",
        "outputId": "879995c3-2c03-48c2-deb9-0bb97952234d"
      },
      "execution_count": 111,
      "outputs": [
        {
          "output_type": "stream",
          "name": "stderr",
          "text": [
            "100%|██████████| 52/52 [00:00<00:00, 178.30it/s]\n"
          ]
        },
        {
          "output_type": "stream",
          "name": "stdout",
          "text": [
            "\n",
            " Epoch 1/10,  Train Loss: 0.3350, Train Accuracy: 76.34%\n"
          ]
        },
        {
          "output_type": "stream",
          "name": "stderr",
          "text": [
            "100%|██████████| 52/52 [00:00<00:00, 335.24it/s]\n"
          ]
        },
        {
          "output_type": "stream",
          "name": "stdout",
          "text": [
            "\n",
            " Epoch 2/10,  Train Loss: 0.3255, Train Accuracy: 76.34%\n"
          ]
        },
        {
          "output_type": "stream",
          "name": "stderr",
          "text": [
            "100%|██████████| 52/52 [00:00<00:00, 327.21it/s]\n"
          ]
        },
        {
          "output_type": "stream",
          "name": "stdout",
          "text": [
            "\n",
            " Epoch 3/10,  Train Loss: 0.3206, Train Accuracy: 76.34%\n"
          ]
        },
        {
          "output_type": "stream",
          "name": "stderr",
          "text": [
            "100%|██████████| 52/52 [00:00<00:00, 360.05it/s]\n"
          ]
        },
        {
          "output_type": "stream",
          "name": "stdout",
          "text": [
            "\n",
            " Epoch 4/10,  Train Loss: 0.3171, Train Accuracy: 76.34%\n"
          ]
        },
        {
          "output_type": "stream",
          "name": "stderr",
          "text": [
            "100%|██████████| 52/52 [00:00<00:00, 703.63it/s]\n"
          ]
        },
        {
          "output_type": "stream",
          "name": "stdout",
          "text": [
            "\n",
            " Epoch 5/10,  Train Loss: 0.3133, Train Accuracy: 76.34%\n"
          ]
        },
        {
          "output_type": "stream",
          "name": "stderr",
          "text": [
            "100%|██████████| 52/52 [00:00<00:00, 714.57it/s]\n"
          ]
        },
        {
          "output_type": "stream",
          "name": "stdout",
          "text": [
            "\n",
            " Epoch 6/10,  Train Loss: 0.3064, Train Accuracy: 76.34%\n"
          ]
        },
        {
          "output_type": "stream",
          "name": "stderr",
          "text": [
            "100%|██████████| 52/52 [00:00<00:00, 590.68it/s]\n"
          ]
        },
        {
          "output_type": "stream",
          "name": "stdout",
          "text": [
            "\n",
            " Epoch 7/10,  Train Loss: 0.3028, Train Accuracy: 76.34%\n"
          ]
        },
        {
          "output_type": "stream",
          "name": "stderr",
          "text": [
            "100%|██████████| 52/52 [00:00<00:00, 679.02it/s]\n"
          ]
        },
        {
          "output_type": "stream",
          "name": "stdout",
          "text": [
            "\n",
            " Epoch 8/10,  Train Loss: 0.3013, Train Accuracy: 76.34%\n"
          ]
        },
        {
          "output_type": "stream",
          "name": "stderr",
          "text": [
            "100%|██████████| 52/52 [00:00<00:00, 715.67it/s]\n"
          ]
        },
        {
          "output_type": "stream",
          "name": "stdout",
          "text": [
            "\n",
            " Epoch 9/10,  Train Loss: 0.2974, Train Accuracy: 76.34%\n"
          ]
        },
        {
          "output_type": "stream",
          "name": "stderr",
          "text": [
            "100%|██████████| 52/52 [00:00<00:00, 724.37it/s]"
          ]
        },
        {
          "output_type": "stream",
          "name": "stdout",
          "text": [
            "\n",
            " Epoch 10/10,  Train Loss: 0.2955, Train Accuracy: 76.34%\n",
            "Accuracy on the test set: 76.83%\n"
          ]
        },
        {
          "output_type": "stream",
          "name": "stderr",
          "text": [
            "\n"
          ]
        }
      ]
    },
    {
      "cell_type": "markdown",
      "source": [
        "#### As you see the tast accuracy of baseline model is 76.83% and the top train accuracy is 76.34%."
      ],
      "metadata": {
        "id": "rKB2vXMq5Dpq"
      }
    },
    {
      "cell_type": "markdown",
      "source": [
        "# Part C"
      ],
      "metadata": {
        "id": "Ia53NZ1OECEP"
      }
    },
    {
      "cell_type": "code",
      "source": [
        "# find the longest length\n",
        "lengthes = df['tokenized'].apply(lambda x : len(x))\n",
        "MAX_LENGTH = np.max(lengthes.to_list())\n",
        "\n",
        "# create 40D one hot vector for each token (Each SMILE sequence will be a 384x40 tensor)\n",
        "list_of_data_LSTM = []\n",
        "\n",
        "for smile in df['tokenized']:\n",
        "    two_dim_array = np.zeros((MAX_LENGTH, len(unique_tokens_list))) #384X40\n",
        "    for token_index, token in enumerate(smile):\n",
        "        idx = token_dict[token]\n",
        "        two_dim_array[383-token_index][idx] = 1\n",
        "\n",
        "    list_of_data_LSTM.append(two_dim_array)"
      ],
      "metadata": {
        "id": "vO0vBbnzFAJE"
      },
      "execution_count": 44,
      "outputs": []
    },
    {
      "cell_type": "code",
      "source": [
        "np.array(list_of_data_LSTM).shape"
      ],
      "metadata": {
        "colab": {
          "base_uri": "https://localhost:8080/"
        },
        "id": "aFKLkOqYWCws",
        "outputId": "8812c256-3b53-4839-f893-32ac486139bc"
      },
      "execution_count": 45,
      "outputs": [
        {
          "output_type": "execute_result",
          "data": {
            "text/plain": [
              "(2050, 384, 40)"
            ]
          },
          "metadata": {},
          "execution_count": 45
        }
      ]
    },
    {
      "cell_type": "code",
      "source": [
        "# Set device\n",
        "device = torch.device(\"cuda:0\" if torch.cuda.is_available() else \"cpu\")\n",
        "\n",
        "# X_LSTM shape : (2050, 384, 40)\n",
        "X_LSTM = np.array(list_of_data_LSTM)\n",
        "y = np.array(df['p_np'].to_list())\n",
        "\n",
        "# Split the data into training and testing sets\n",
        "X_train, X_test, y_train, y_test = train_test_split(X_LSTM, y, test_size=0.1, random_state=40)\n",
        "\n",
        "# Define weights for positive and negative classes (pos_weight is around 0.3)\n",
        "pos_weight = torch.tensor((y_train == 0).sum() / (y_train == 1).sum(), dtype=torch.float32)\n",
        "\n",
        "# Convert data to PyTorch tensors\n",
        "X_train_tensor = torch.tensor(X_train, dtype=torch.float32).to(device)\n",
        "y_train_tensor = torch.tensor(y_train, dtype=torch.float32).to(device)\n",
        "X_test_tensor = torch.tensor(X_test, dtype=torch.float32).to(device)\n",
        "y_test_tensor = torch.tensor(y_test, dtype=torch.float32).to(device)\n",
        "\n",
        "# Define the LSTM model\n",
        "class LSTMClassifier(nn.Module):\n",
        "    def __init__(self, input_size, hidden_size, num_layers, output_size):\n",
        "        super(LSTMClassifier, self).__init__()\n",
        "        self.lstm = nn.LSTM(input_size, hidden_size, num_layers, batch_first=True)\n",
        "        self.fc1 = nn.Linear(hidden_size, 64)\n",
        "        self.relu = nn.ReLU()\n",
        "        self.fc2 = nn.Linear(64, 16)\n",
        "        self.relu1 = nn.ReLU()\n",
        "        self.fc3 = nn.Linear(16, output_size)\n",
        "        self.sigmoid = nn.Sigmoid()\n",
        "\n",
        "    def forward(self, x):\n",
        "\n",
        "        lstm_out, _ = self.lstm(x)\n",
        "\n",
        "        # Take the output from the last time step\n",
        "        lstm_out = lstm_out[:, -1, :]\n",
        "        x = self.fc1(lstm_out)\n",
        "        x = self.relu(x)\n",
        "        x = self.fc2(x)\n",
        "        x = self.relu1(x)\n",
        "        x = self.fc3(x)\n",
        "        # x = self.sigmoid(x)\n",
        "        return x\n",
        "\n",
        "# Initialize the LSTM model input_size = 40\n",
        "input_size = X_train_tensor.shape[2]\n",
        "\n",
        "# The number of features in the hidden state\n",
        "hidden_size = 128\n",
        "\n",
        "# Two stacked LSTM\n",
        "num_layers = 2\n",
        "\n",
        "# Binary classification\n",
        "output_size = 1\n",
        "lstm_model = LSTMClassifier(input_size, hidden_size, num_layers, output_size).to(device)\n",
        "\n",
        "# Define loss function and optimizer\n",
        "criterion = nn.BCEWithLogitsLoss(pos_weight=pos_weight).to(device)\n",
        "optimizer = optim.Adam(lstm_model.parameters(), lr=0.0001)\n",
        "\n",
        "# Train the LSTM model\n",
        "num_epochs = 50\n",
        "batch_size = 32\n",
        "train_dataset = TensorDataset(X_train_tensor, y_train_tensor)\n",
        "train_loader = DataLoader(train_dataset, batch_size=batch_size, shuffle=True)\n",
        "\n",
        "for epoch in range(num_epochs):\n",
        "    lstm_model.train()\n",
        "    total_loss = 0.0\n",
        "    correct_predictions = 0\n",
        "    total_samples = 0\n",
        "\n",
        "    for batch_X, batch_y in tqdm.tqdm(train_loader):\n",
        "        optimizer.zero_grad()\n",
        "        outputs = lstm_model(batch_X)\n",
        "        loss = criterion(outputs, batch_y.view(-1, 1))\n",
        "        loss.backward()\n",
        "        optimizer.step()\n",
        "\n",
        "        # Update statistics\n",
        "        total_loss += loss.item()\n",
        "        predicted_labels = (lstm_model.sigmoid(outputs) >= 0.5).float()\n",
        "        correct_predictions += torch.sum(predicted_labels.view(-1) == batch_y).item()\n",
        "        total_samples += len(batch_y)\n",
        "\n",
        "\n",
        "    # Calculate epoch-level statistics\n",
        "    accuracy = correct_predictions / total_samples\n",
        "    average_loss = total_loss / len(train_loader)\n",
        "\n",
        "    # Print epoch-level information\n",
        "    print(f\"Epoch {epoch + 1}/{num_epochs},  Train Loss: {average_loss:.4f}, Train Accuracy: {accuracy * 100:.2f}% \\n\")\n",
        "\n",
        "\n",
        "\n",
        "# Evaluate the LSTM model on the test set\n",
        "with torch.no_grad():\n",
        "    lstm_model.eval()\n",
        "    test_outputs = lstm_model(X_test_tensor)\n",
        "    predicted_labels = (lstm_model.sigmoid(test_outputs) >= 0.5).float()\n",
        "    accuracy = torch.sum(predicted_labels.view(-1) == y_test_tensor).item() / len(y_test_tensor)\n",
        "\n",
        "print(f\"Accuracy on the test set: {accuracy * 100:.2f}%\")"
      ],
      "metadata": {
        "colab": {
          "base_uri": "https://localhost:8080/"
        },
        "id": "nG1WTmSnEDku",
        "outputId": "7f0a5f98-063b-4a7a-aff6-525256be6a7f"
      },
      "execution_count": 46,
      "outputs": [
        {
          "output_type": "stream",
          "name": "stderr",
          "text": [
            "100%|██████████| 58/58 [00:00<00:00, 83.73it/s]\n"
          ]
        },
        {
          "output_type": "stream",
          "name": "stdout",
          "text": [
            "Epoch 1/50,  Train Loss: 0.3365, Train Accuracy: 24.23% \n",
            "\n"
          ]
        },
        {
          "output_type": "stream",
          "name": "stderr",
          "text": [
            "100%|██████████| 58/58 [00:00<00:00, 102.29it/s]\n"
          ]
        },
        {
          "output_type": "stream",
          "name": "stdout",
          "text": [
            "Epoch 2/50,  Train Loss: 0.3359, Train Accuracy: 24.23% \n",
            "\n"
          ]
        },
        {
          "output_type": "stream",
          "name": "stderr",
          "text": [
            "100%|██████████| 58/58 [00:00<00:00, 100.08it/s]\n"
          ]
        },
        {
          "output_type": "stream",
          "name": "stdout",
          "text": [
            "Epoch 3/50,  Train Loss: 0.3353, Train Accuracy: 28.51% \n",
            "\n"
          ]
        },
        {
          "output_type": "stream",
          "name": "stderr",
          "text": [
            "100%|██████████| 58/58 [00:00<00:00, 99.65it/s]\n"
          ]
        },
        {
          "output_type": "stream",
          "name": "stdout",
          "text": [
            "Epoch 4/50,  Train Loss: 0.3035, Train Accuracy: 72.20% \n",
            "\n"
          ]
        },
        {
          "output_type": "stream",
          "name": "stderr",
          "text": [
            "100%|██████████| 58/58 [00:00<00:00, 101.91it/s]\n"
          ]
        },
        {
          "output_type": "stream",
          "name": "stdout",
          "text": [
            "Epoch 5/50,  Train Loss: 0.2838, Train Accuracy: 67.37% \n",
            "\n"
          ]
        },
        {
          "output_type": "stream",
          "name": "stderr",
          "text": [
            "100%|██████████| 58/58 [00:00<00:00, 104.92it/s]\n"
          ]
        },
        {
          "output_type": "stream",
          "name": "stdout",
          "text": [
            "Epoch 6/50,  Train Loss: 0.2643, Train Accuracy: 69.05% \n",
            "\n"
          ]
        },
        {
          "output_type": "stream",
          "name": "stderr",
          "text": [
            "100%|██████████| 58/58 [00:00<00:00, 103.53it/s]\n"
          ]
        },
        {
          "output_type": "stream",
          "name": "stdout",
          "text": [
            "Epoch 7/50,  Train Loss: 0.2549, Train Accuracy: 67.80% \n",
            "\n"
          ]
        },
        {
          "output_type": "stream",
          "name": "stderr",
          "text": [
            "100%|██████████| 58/58 [00:00<00:00, 103.00it/s]\n"
          ]
        },
        {
          "output_type": "stream",
          "name": "stdout",
          "text": [
            "Epoch 8/50,  Train Loss: 0.2486, Train Accuracy: 67.32% \n",
            "\n"
          ]
        },
        {
          "output_type": "stream",
          "name": "stderr",
          "text": [
            "100%|██████████| 58/58 [00:00<00:00, 104.19it/s]\n"
          ]
        },
        {
          "output_type": "stream",
          "name": "stdout",
          "text": [
            "Epoch 9/50,  Train Loss: 0.2406, Train Accuracy: 69.05% \n",
            "\n"
          ]
        },
        {
          "output_type": "stream",
          "name": "stderr",
          "text": [
            "100%|██████████| 58/58 [00:00<00:00, 102.03it/s]\n"
          ]
        },
        {
          "output_type": "stream",
          "name": "stdout",
          "text": [
            "Epoch 10/50,  Train Loss: 0.2427, Train Accuracy: 69.11% \n",
            "\n"
          ]
        },
        {
          "output_type": "stream",
          "name": "stderr",
          "text": [
            "100%|██████████| 58/58 [00:00<00:00, 103.98it/s]\n"
          ]
        },
        {
          "output_type": "stream",
          "name": "stdout",
          "text": [
            "Epoch 11/50,  Train Loss: 0.2288, Train Accuracy: 71.27% \n",
            "\n"
          ]
        },
        {
          "output_type": "stream",
          "name": "stderr",
          "text": [
            "100%|██████████| 58/58 [00:00<00:00, 103.08it/s]\n"
          ]
        },
        {
          "output_type": "stream",
          "name": "stdout",
          "text": [
            "Epoch 12/50,  Train Loss: 0.2430, Train Accuracy: 69.16% \n",
            "\n"
          ]
        },
        {
          "output_type": "stream",
          "name": "stderr",
          "text": [
            "100%|██████████| 58/58 [00:00<00:00, 103.30it/s]\n"
          ]
        },
        {
          "output_type": "stream",
          "name": "stdout",
          "text": [
            "Epoch 13/50,  Train Loss: 0.2423, Train Accuracy: 68.40% \n",
            "\n"
          ]
        },
        {
          "output_type": "stream",
          "name": "stderr",
          "text": [
            "100%|██████████| 58/58 [00:00<00:00, 103.61it/s]\n"
          ]
        },
        {
          "output_type": "stream",
          "name": "stdout",
          "text": [
            "Epoch 14/50,  Train Loss: 0.2182, Train Accuracy: 73.98% \n",
            "\n"
          ]
        },
        {
          "output_type": "stream",
          "name": "stderr",
          "text": [
            "100%|██████████| 58/58 [00:00<00:00, 103.88it/s]\n"
          ]
        },
        {
          "output_type": "stream",
          "name": "stdout",
          "text": [
            "Epoch 15/50,  Train Loss: 0.2171, Train Accuracy: 73.50% \n",
            "\n"
          ]
        },
        {
          "output_type": "stream",
          "name": "stderr",
          "text": [
            "100%|██████████| 58/58 [00:00<00:00, 101.96it/s]\n"
          ]
        },
        {
          "output_type": "stream",
          "name": "stdout",
          "text": [
            "Epoch 16/50,  Train Loss: 0.2146, Train Accuracy: 73.66% \n",
            "\n"
          ]
        },
        {
          "output_type": "stream",
          "name": "stderr",
          "text": [
            "100%|██████████| 58/58 [00:00<00:00, 103.34it/s]\n"
          ]
        },
        {
          "output_type": "stream",
          "name": "stdout",
          "text": [
            "Epoch 17/50,  Train Loss: 0.2120, Train Accuracy: 74.69% \n",
            "\n"
          ]
        },
        {
          "output_type": "stream",
          "name": "stderr",
          "text": [
            "100%|██████████| 58/58 [00:00<00:00, 104.02it/s]\n"
          ]
        },
        {
          "output_type": "stream",
          "name": "stdout",
          "text": [
            "Epoch 18/50,  Train Loss: 0.2108, Train Accuracy: 73.28% \n",
            "\n"
          ]
        },
        {
          "output_type": "stream",
          "name": "stderr",
          "text": [
            "100%|██████████| 58/58 [00:00<00:00, 102.80it/s]\n"
          ]
        },
        {
          "output_type": "stream",
          "name": "stdout",
          "text": [
            "Epoch 19/50,  Train Loss: 0.2091, Train Accuracy: 75.23% \n",
            "\n"
          ]
        },
        {
          "output_type": "stream",
          "name": "stderr",
          "text": [
            "100%|██████████| 58/58 [00:00<00:00, 103.27it/s]\n"
          ]
        },
        {
          "output_type": "stream",
          "name": "stdout",
          "text": [
            "Epoch 20/50,  Train Loss: 0.2032, Train Accuracy: 74.96% \n",
            "\n"
          ]
        },
        {
          "output_type": "stream",
          "name": "stderr",
          "text": [
            "100%|██████████| 58/58 [00:00<00:00, 102.46it/s]\n"
          ]
        },
        {
          "output_type": "stream",
          "name": "stdout",
          "text": [
            "Epoch 21/50,  Train Loss: 0.2046, Train Accuracy: 74.09% \n",
            "\n"
          ]
        },
        {
          "output_type": "stream",
          "name": "stderr",
          "text": [
            "100%|██████████| 58/58 [00:00<00:00, 100.78it/s]\n"
          ]
        },
        {
          "output_type": "stream",
          "name": "stdout",
          "text": [
            "Epoch 22/50,  Train Loss: 0.1982, Train Accuracy: 75.72% \n",
            "\n"
          ]
        },
        {
          "output_type": "stream",
          "name": "stderr",
          "text": [
            "100%|██████████| 58/58 [00:00<00:00, 99.02it/s]\n"
          ]
        },
        {
          "output_type": "stream",
          "name": "stdout",
          "text": [
            "Epoch 23/50,  Train Loss: 0.1985, Train Accuracy: 75.45% \n",
            "\n"
          ]
        },
        {
          "output_type": "stream",
          "name": "stderr",
          "text": [
            "100%|██████████| 58/58 [00:00<00:00, 96.52it/s]\n"
          ]
        },
        {
          "output_type": "stream",
          "name": "stdout",
          "text": [
            "Epoch 24/50,  Train Loss: 0.1935, Train Accuracy: 76.37% \n",
            "\n"
          ]
        },
        {
          "output_type": "stream",
          "name": "stderr",
          "text": [
            "100%|██████████| 58/58 [00:00<00:00, 98.26it/s]\n"
          ]
        },
        {
          "output_type": "stream",
          "name": "stdout",
          "text": [
            "Epoch 25/50,  Train Loss: 0.1906, Train Accuracy: 76.26% \n",
            "\n"
          ]
        },
        {
          "output_type": "stream",
          "name": "stderr",
          "text": [
            "100%|██████████| 58/58 [00:00<00:00, 98.87it/s]\n"
          ]
        },
        {
          "output_type": "stream",
          "name": "stdout",
          "text": [
            "Epoch 26/50,  Train Loss: 0.1861, Train Accuracy: 76.80% \n",
            "\n"
          ]
        },
        {
          "output_type": "stream",
          "name": "stderr",
          "text": [
            "100%|██████████| 58/58 [00:00<00:00, 99.58it/s]\n"
          ]
        },
        {
          "output_type": "stream",
          "name": "stdout",
          "text": [
            "Epoch 27/50,  Train Loss: 0.1850, Train Accuracy: 76.80% \n",
            "\n"
          ]
        },
        {
          "output_type": "stream",
          "name": "stderr",
          "text": [
            "100%|██████████| 58/58 [00:00<00:00, 101.75it/s]\n"
          ]
        },
        {
          "output_type": "stream",
          "name": "stdout",
          "text": [
            "Epoch 28/50,  Train Loss: 0.1832, Train Accuracy: 77.67% \n",
            "\n"
          ]
        },
        {
          "output_type": "stream",
          "name": "stderr",
          "text": [
            "100%|██████████| 58/58 [00:00<00:00, 101.22it/s]\n"
          ]
        },
        {
          "output_type": "stream",
          "name": "stdout",
          "text": [
            "Epoch 29/50,  Train Loss: 0.1841, Train Accuracy: 77.78% \n",
            "\n"
          ]
        },
        {
          "output_type": "stream",
          "name": "stderr",
          "text": [
            "100%|██████████| 58/58 [00:00<00:00, 101.02it/s]\n"
          ]
        },
        {
          "output_type": "stream",
          "name": "stdout",
          "text": [
            "Epoch 30/50,  Train Loss: 0.1840, Train Accuracy: 77.78% \n",
            "\n"
          ]
        },
        {
          "output_type": "stream",
          "name": "stderr",
          "text": [
            "100%|██████████| 58/58 [00:00<00:00, 102.81it/s]\n"
          ]
        },
        {
          "output_type": "stream",
          "name": "stdout",
          "text": [
            "Epoch 31/50,  Train Loss: 0.1773, Train Accuracy: 78.16% \n",
            "\n"
          ]
        },
        {
          "output_type": "stream",
          "name": "stderr",
          "text": [
            "100%|██████████| 58/58 [00:00<00:00, 102.65it/s]\n"
          ]
        },
        {
          "output_type": "stream",
          "name": "stdout",
          "text": [
            "Epoch 32/50,  Train Loss: 0.1799, Train Accuracy: 78.16% \n",
            "\n"
          ]
        },
        {
          "output_type": "stream",
          "name": "stderr",
          "text": [
            "100%|██████████| 58/58 [00:00<00:00, 101.87it/s]\n"
          ]
        },
        {
          "output_type": "stream",
          "name": "stdout",
          "text": [
            "Epoch 33/50,  Train Loss: 0.1810, Train Accuracy: 77.51% \n",
            "\n"
          ]
        },
        {
          "output_type": "stream",
          "name": "stderr",
          "text": [
            "100%|██████████| 58/58 [00:00<00:00, 102.39it/s]\n"
          ]
        },
        {
          "output_type": "stream",
          "name": "stdout",
          "text": [
            "Epoch 34/50,  Train Loss: 0.1757, Train Accuracy: 78.43% \n",
            "\n"
          ]
        },
        {
          "output_type": "stream",
          "name": "stderr",
          "text": [
            "100%|██████████| 58/58 [00:00<00:00, 101.21it/s]\n"
          ]
        },
        {
          "output_type": "stream",
          "name": "stdout",
          "text": [
            "Epoch 35/50,  Train Loss: 0.1756, Train Accuracy: 78.37% \n",
            "\n"
          ]
        },
        {
          "output_type": "stream",
          "name": "stderr",
          "text": [
            "100%|██████████| 58/58 [00:00<00:00, 103.23it/s]\n"
          ]
        },
        {
          "output_type": "stream",
          "name": "stdout",
          "text": [
            "Epoch 36/50,  Train Loss: 0.1758, Train Accuracy: 78.05% \n",
            "\n"
          ]
        },
        {
          "output_type": "stream",
          "name": "stderr",
          "text": [
            "100%|██████████| 58/58 [00:00<00:00, 102.76it/s]\n"
          ]
        },
        {
          "output_type": "stream",
          "name": "stdout",
          "text": [
            "Epoch 37/50,  Train Loss: 0.1725, Train Accuracy: 78.27% \n",
            "\n"
          ]
        },
        {
          "output_type": "stream",
          "name": "stderr",
          "text": [
            "100%|██████████| 58/58 [00:00<00:00, 102.14it/s]\n"
          ]
        },
        {
          "output_type": "stream",
          "name": "stdout",
          "text": [
            "Epoch 38/50,  Train Loss: 0.1702, Train Accuracy: 78.75% \n",
            "\n"
          ]
        },
        {
          "output_type": "stream",
          "name": "stderr",
          "text": [
            "100%|██████████| 58/58 [00:00<00:00, 101.09it/s]\n"
          ]
        },
        {
          "output_type": "stream",
          "name": "stdout",
          "text": [
            "Epoch 39/50,  Train Loss: 0.1708, Train Accuracy: 78.54% \n",
            "\n"
          ]
        },
        {
          "output_type": "stream",
          "name": "stderr",
          "text": [
            "100%|██████████| 58/58 [00:00<00:00, 101.54it/s]\n"
          ]
        },
        {
          "output_type": "stream",
          "name": "stdout",
          "text": [
            "Epoch 40/50,  Train Loss: 0.1674, Train Accuracy: 78.97% \n",
            "\n"
          ]
        },
        {
          "output_type": "stream",
          "name": "stderr",
          "text": [
            "100%|██████████| 58/58 [00:00<00:00, 101.53it/s]\n"
          ]
        },
        {
          "output_type": "stream",
          "name": "stdout",
          "text": [
            "Epoch 41/50,  Train Loss: 0.1677, Train Accuracy: 78.59% \n",
            "\n"
          ]
        },
        {
          "output_type": "stream",
          "name": "stderr",
          "text": [
            "100%|██████████| 58/58 [00:00<00:00, 100.90it/s]\n"
          ]
        },
        {
          "output_type": "stream",
          "name": "stdout",
          "text": [
            "Epoch 42/50,  Train Loss: 0.1636, Train Accuracy: 78.86% \n",
            "\n"
          ]
        },
        {
          "output_type": "stream",
          "name": "stderr",
          "text": [
            "100%|██████████| 58/58 [00:00<00:00, 100.45it/s]\n"
          ]
        },
        {
          "output_type": "stream",
          "name": "stdout",
          "text": [
            "Epoch 43/50,  Train Loss: 0.1622, Train Accuracy: 78.27% \n",
            "\n"
          ]
        },
        {
          "output_type": "stream",
          "name": "stderr",
          "text": [
            "100%|██████████| 58/58 [00:00<00:00, 101.15it/s]\n"
          ]
        },
        {
          "output_type": "stream",
          "name": "stdout",
          "text": [
            "Epoch 44/50,  Train Loss: 0.1634, Train Accuracy: 78.75% \n",
            "\n"
          ]
        },
        {
          "output_type": "stream",
          "name": "stderr",
          "text": [
            "100%|██████████| 58/58 [00:00<00:00, 96.32it/s]\n"
          ]
        },
        {
          "output_type": "stream",
          "name": "stdout",
          "text": [
            "Epoch 45/50,  Train Loss: 0.1602, Train Accuracy: 79.02% \n",
            "\n"
          ]
        },
        {
          "output_type": "stream",
          "name": "stderr",
          "text": [
            "100%|██████████| 58/58 [00:00<00:00, 96.44it/s]\n"
          ]
        },
        {
          "output_type": "stream",
          "name": "stdout",
          "text": [
            "Epoch 46/50,  Train Loss: 0.1591, Train Accuracy: 78.75% \n",
            "\n"
          ]
        },
        {
          "output_type": "stream",
          "name": "stderr",
          "text": [
            "100%|██████████| 58/58 [00:00<00:00, 98.25it/s]\n"
          ]
        },
        {
          "output_type": "stream",
          "name": "stdout",
          "text": [
            "Epoch 47/50,  Train Loss: 0.1601, Train Accuracy: 78.75% \n",
            "\n"
          ]
        },
        {
          "output_type": "stream",
          "name": "stderr",
          "text": [
            "100%|██████████| 58/58 [00:00<00:00, 98.21it/s]\n"
          ]
        },
        {
          "output_type": "stream",
          "name": "stdout",
          "text": [
            "Epoch 48/50,  Train Loss: 0.1633, Train Accuracy: 78.86% \n",
            "\n"
          ]
        },
        {
          "output_type": "stream",
          "name": "stderr",
          "text": [
            "100%|██████████| 58/58 [00:00<00:00, 98.88it/s]\n"
          ]
        },
        {
          "output_type": "stream",
          "name": "stdout",
          "text": [
            "Epoch 49/50,  Train Loss: 0.1582, Train Accuracy: 78.97% \n",
            "\n"
          ]
        },
        {
          "output_type": "stream",
          "name": "stderr",
          "text": [
            "100%|██████████| 58/58 [00:00<00:00, 101.67it/s]"
          ]
        },
        {
          "output_type": "stream",
          "name": "stdout",
          "text": [
            "Epoch 50/50,  Train Loss: 0.1576, Train Accuracy: 79.08% \n",
            "\n",
            "Accuracy on the test set: 74.15%\n"
          ]
        },
        {
          "output_type": "stream",
          "name": "stderr",
          "text": [
            "\n"
          ]
        }
      ]
    },
    {
      "cell_type": "markdown",
      "source": [
        "#### As you see I got accuracy 74.15% in LSTM model on test set and top train accuracy 79%."
      ],
      "metadata": {
        "id": "0xt6uY9L4sVJ"
      }
    },
    {
      "cell_type": "markdown",
      "source": [
        "# Part D"
      ],
      "metadata": {
        "id": "IbbQXfHsfc-1"
      }
    },
    {
      "cell_type": "code",
      "source": [
        "# Define the BiLSTM model\n",
        "class BiLSTMClassifier(nn.Module):\n",
        "    def __init__(self, input_size, hidden_size, num_layers, output_size):\n",
        "        super(BiLSTMClassifier, self).__init__()\n",
        "        self.bilstm = nn.LSTM(input_size, hidden_size, num_layers, batch_first=True, bidirectional=True)\n",
        "\n",
        "        # Multiply by 2 for bidirectional\n",
        "        self.fc1 = nn.Linear(hidden_size * 2, 64)\n",
        "        self.relu = nn.ReLU()\n",
        "        self.fc2 = nn.Linear(64, 16)\n",
        "        self.relu1 = nn.ReLU()\n",
        "        self.fc3 = nn.Linear(16, output_size)\n",
        "        self.sigmoid = nn.Sigmoid()\n",
        "\n",
        "    def forward(self, x):\n",
        "\n",
        "        bilstm_out, _ = self.bilstm(x)\n",
        "        # Concatenate the outputs from the last time step in both directions\n",
        "        bilstm_out = torch.cat((bilstm_out[:, -1, :hidden_size], bilstm_out[:, 0, hidden_size:]), dim=1)\n",
        "        x = self.fc1(bilstm_out)\n",
        "        x = self.relu(x)\n",
        "        x = self.fc2(x)\n",
        "        x = self.relu1(x)\n",
        "        x = self.fc3(x)\n",
        "        # x = self.sigmoid(x)\n",
        "        return x\n",
        "\n",
        "\n",
        "# Initialize the LSTM model input_size = 40\n",
        "input_size = X_train_tensor.shape[2]\n",
        "\n",
        "# Reduced hidden size for bidirectional\n",
        "hidden_size = 64\n",
        "num_layers = 2\n",
        "output_size = 1\n",
        "bilstm_model = BiLSTMClassifier(input_size, hidden_size, num_layers, output_size).to(device)\n",
        "\n",
        "# Define loss function and optimizer\n",
        "criterion = nn.BCEWithLogitsLoss(pos_weight=pos_weight).to(device)\n",
        "optimizer = optim.Adam(bilstm_model.parameters(), lr=0.001)\n",
        "\n",
        "# Train the BiLSTM model\n",
        "num_epochs = 50\n",
        "batch_size = 32\n",
        "train_dataset = TensorDataset(X_train_tensor, y_train_tensor)\n",
        "train_loader = DataLoader(train_dataset, batch_size=batch_size, shuffle=True)\n",
        "\n",
        "for epoch in range(num_epochs):\n",
        "    bilstm_model.train()\n",
        "    total_loss = 0.0\n",
        "    correct_predictions = 0\n",
        "    total_samples = 0\n",
        "\n",
        "    for batch_X, batch_y in tqdm.tqdm(train_loader):\n",
        "        optimizer.zero_grad()\n",
        "        outputs = bilstm_model(batch_X)\n",
        "        loss = criterion(outputs, batch_y.view(-1, 1))\n",
        "        loss.backward()\n",
        "        optimizer.step()\n",
        "\n",
        "        # Update statistics\n",
        "        total_loss += loss.item()\n",
        "        predicted_labels = (bilstm_model.sigmoid(outputs) >= 0.5).float()\n",
        "        correct_predictions += torch.sum(predicted_labels.view(-1) == batch_y).item()\n",
        "        total_samples += len(batch_y)\n",
        "\n",
        "\n",
        "    # Calculate epoch-level statistics\n",
        "    accuracy = correct_predictions / total_samples\n",
        "    average_loss = total_loss / len(train_loader)\n",
        "\n",
        "    # Print epoch-level information\n",
        "    print(f\"Epoch {epoch + 1}/{num_epochs},  Train Loss: {average_loss:.4f}, Train Accuracy: {accuracy * 100:.2f}% \\n\")\n",
        "\n",
        "\n",
        "\n",
        "# Evaluate the BiLSTM model on the test set\n",
        "with torch.no_grad():\n",
        "    bilstm_model.eval()\n",
        "    test_outputs = bilstm_model(X_test_tensor)\n",
        "    predicted_labels = (bilstm_model.sigmoid(test_outputs) >= 0.5).float()\n",
        "    accuracy = torch.sum(predicted_labels.view(-1) == y_test_tensor).item() / len(y_test_tensor)\n",
        "\n",
        "print(f\"Accuracy on the test set: {accuracy * 100:.2f}%\")\n"
      ],
      "metadata": {
        "colab": {
          "base_uri": "https://localhost:8080/"
        },
        "id": "EXN9eFBNfe3G",
        "outputId": "17d3450f-5be4-4030-e01c-8773036a3950"
      },
      "execution_count": 47,
      "outputs": [
        {
          "output_type": "stream",
          "name": "stderr",
          "text": [
            "100%|██████████| 58/58 [00:00<00:00, 108.95it/s]\n"
          ]
        },
        {
          "output_type": "stream",
          "name": "stdout",
          "text": [
            "Epoch 1/50,  Train Loss: 0.3334, Train Accuracy: 36.53% \n",
            "\n"
          ]
        },
        {
          "output_type": "stream",
          "name": "stderr",
          "text": [
            "100%|██████████| 58/58 [00:00<00:00, 140.16it/s]\n"
          ]
        },
        {
          "output_type": "stream",
          "name": "stdout",
          "text": [
            "Epoch 2/50,  Train Loss: 0.3432, Train Accuracy: 51.06% \n",
            "\n"
          ]
        },
        {
          "output_type": "stream",
          "name": "stderr",
          "text": [
            "100%|██████████| 58/58 [00:00<00:00, 141.28it/s]\n"
          ]
        },
        {
          "output_type": "stream",
          "name": "stdout",
          "text": [
            "Epoch 3/50,  Train Loss: 0.3349, Train Accuracy: 56.42% \n",
            "\n"
          ]
        },
        {
          "output_type": "stream",
          "name": "stderr",
          "text": [
            "100%|██████████| 58/58 [00:00<00:00, 143.55it/s]\n"
          ]
        },
        {
          "output_type": "stream",
          "name": "stdout",
          "text": [
            "Epoch 4/50,  Train Loss: 0.2976, Train Accuracy: 65.26% \n",
            "\n"
          ]
        },
        {
          "output_type": "stream",
          "name": "stderr",
          "text": [
            "100%|██████████| 58/58 [00:00<00:00, 142.02it/s]\n"
          ]
        },
        {
          "output_type": "stream",
          "name": "stdout",
          "text": [
            "Epoch 5/50,  Train Loss: 0.2508, Train Accuracy: 71.27% \n",
            "\n"
          ]
        },
        {
          "output_type": "stream",
          "name": "stderr",
          "text": [
            "100%|██████████| 58/58 [00:00<00:00, 142.91it/s]\n"
          ]
        },
        {
          "output_type": "stream",
          "name": "stdout",
          "text": [
            "Epoch 6/50,  Train Loss: 0.2078, Train Accuracy: 74.20% \n",
            "\n"
          ]
        },
        {
          "output_type": "stream",
          "name": "stderr",
          "text": [
            "100%|██████████| 58/58 [00:00<00:00, 142.96it/s]\n"
          ]
        },
        {
          "output_type": "stream",
          "name": "stdout",
          "text": [
            "Epoch 7/50,  Train Loss: 0.1823, Train Accuracy: 77.29% \n",
            "\n"
          ]
        },
        {
          "output_type": "stream",
          "name": "stderr",
          "text": [
            "100%|██████████| 58/58 [00:00<00:00, 141.58it/s]\n"
          ]
        },
        {
          "output_type": "stream",
          "name": "stdout",
          "text": [
            "Epoch 8/50,  Train Loss: 0.1650, Train Accuracy: 79.35% \n",
            "\n"
          ]
        },
        {
          "output_type": "stream",
          "name": "stderr",
          "text": [
            "100%|██████████| 58/58 [00:00<00:00, 141.72it/s]\n"
          ]
        },
        {
          "output_type": "stream",
          "name": "stdout",
          "text": [
            "Epoch 9/50,  Train Loss: 0.1599, Train Accuracy: 80.43% \n",
            "\n"
          ]
        },
        {
          "output_type": "stream",
          "name": "stderr",
          "text": [
            "100%|██████████| 58/58 [00:00<00:00, 140.31it/s]\n"
          ]
        },
        {
          "output_type": "stream",
          "name": "stdout",
          "text": [
            "Epoch 10/50,  Train Loss: 0.1732, Train Accuracy: 81.79% \n",
            "\n"
          ]
        },
        {
          "output_type": "stream",
          "name": "stderr",
          "text": [
            "100%|██████████| 58/58 [00:00<00:00, 143.36it/s]\n"
          ]
        },
        {
          "output_type": "stream",
          "name": "stdout",
          "text": [
            "Epoch 11/50,  Train Loss: 0.1748, Train Accuracy: 79.46% \n",
            "\n"
          ]
        },
        {
          "output_type": "stream",
          "name": "stderr",
          "text": [
            "100%|██████████| 58/58 [00:00<00:00, 141.54it/s]\n"
          ]
        },
        {
          "output_type": "stream",
          "name": "stdout",
          "text": [
            "Epoch 12/50,  Train Loss: 0.1564, Train Accuracy: 82.76% \n",
            "\n"
          ]
        },
        {
          "output_type": "stream",
          "name": "stderr",
          "text": [
            "100%|██████████| 58/58 [00:00<00:00, 140.78it/s]\n"
          ]
        },
        {
          "output_type": "stream",
          "name": "stdout",
          "text": [
            "Epoch 13/50,  Train Loss: 0.1362, Train Accuracy: 84.44% \n",
            "\n"
          ]
        },
        {
          "output_type": "stream",
          "name": "stderr",
          "text": [
            "100%|██████████| 58/58 [00:00<00:00, 141.04it/s]\n"
          ]
        },
        {
          "output_type": "stream",
          "name": "stdout",
          "text": [
            "Epoch 14/50,  Train Loss: 0.1470, Train Accuracy: 82.28% \n",
            "\n"
          ]
        },
        {
          "output_type": "stream",
          "name": "stderr",
          "text": [
            "100%|██████████| 58/58 [00:00<00:00, 141.62it/s]\n"
          ]
        },
        {
          "output_type": "stream",
          "name": "stdout",
          "text": [
            "Epoch 15/50,  Train Loss: 0.1397, Train Accuracy: 83.90% \n",
            "\n"
          ]
        },
        {
          "output_type": "stream",
          "name": "stderr",
          "text": [
            "100%|██████████| 58/58 [00:00<00:00, 142.28it/s]\n"
          ]
        },
        {
          "output_type": "stream",
          "name": "stdout",
          "text": [
            "Epoch 16/50,  Train Loss: 0.1267, Train Accuracy: 85.96% \n",
            "\n"
          ]
        },
        {
          "output_type": "stream",
          "name": "stderr",
          "text": [
            "100%|██████████| 58/58 [00:00<00:00, 140.38it/s]\n"
          ]
        },
        {
          "output_type": "stream",
          "name": "stdout",
          "text": [
            "Epoch 17/50,  Train Loss: 0.1296, Train Accuracy: 86.07% \n",
            "\n"
          ]
        },
        {
          "output_type": "stream",
          "name": "stderr",
          "text": [
            "100%|██████████| 58/58 [00:00<00:00, 140.84it/s]\n"
          ]
        },
        {
          "output_type": "stream",
          "name": "stdout",
          "text": [
            "Epoch 18/50,  Train Loss: 0.1266, Train Accuracy: 85.80% \n",
            "\n"
          ]
        },
        {
          "output_type": "stream",
          "name": "stderr",
          "text": [
            "100%|██████████| 58/58 [00:00<00:00, 141.37it/s]\n"
          ]
        },
        {
          "output_type": "stream",
          "name": "stdout",
          "text": [
            "Epoch 19/50,  Train Loss: 0.1249, Train Accuracy: 86.72% \n",
            "\n"
          ]
        },
        {
          "output_type": "stream",
          "name": "stderr",
          "text": [
            "100%|██████████| 58/58 [00:00<00:00, 140.56it/s]\n"
          ]
        },
        {
          "output_type": "stream",
          "name": "stdout",
          "text": [
            "Epoch 20/50,  Train Loss: 0.1387, Train Accuracy: 84.99% \n",
            "\n"
          ]
        },
        {
          "output_type": "stream",
          "name": "stderr",
          "text": [
            "100%|██████████| 58/58 [00:00<00:00, 140.92it/s]\n"
          ]
        },
        {
          "output_type": "stream",
          "name": "stdout",
          "text": [
            "Epoch 21/50,  Train Loss: 0.1265, Train Accuracy: 85.96% \n",
            "\n"
          ]
        },
        {
          "output_type": "stream",
          "name": "stderr",
          "text": [
            "100%|██████████| 58/58 [00:00<00:00, 139.77it/s]\n"
          ]
        },
        {
          "output_type": "stream",
          "name": "stdout",
          "text": [
            "Epoch 22/50,  Train Loss: 0.1205, Train Accuracy: 86.99% \n",
            "\n"
          ]
        },
        {
          "output_type": "stream",
          "name": "stderr",
          "text": [
            "100%|██████████| 58/58 [00:00<00:00, 141.59it/s]\n"
          ]
        },
        {
          "output_type": "stream",
          "name": "stdout",
          "text": [
            "Epoch 23/50,  Train Loss: 0.1179, Train Accuracy: 86.61% \n",
            "\n"
          ]
        },
        {
          "output_type": "stream",
          "name": "stderr",
          "text": [
            "100%|██████████| 58/58 [00:00<00:00, 133.08it/s]\n"
          ]
        },
        {
          "output_type": "stream",
          "name": "stdout",
          "text": [
            "Epoch 24/50,  Train Loss: 0.1184, Train Accuracy: 87.15% \n",
            "\n"
          ]
        },
        {
          "output_type": "stream",
          "name": "stderr",
          "text": [
            "100%|██████████| 58/58 [00:00<00:00, 78.50it/s]\n"
          ]
        },
        {
          "output_type": "stream",
          "name": "stdout",
          "text": [
            "Epoch 25/50,  Train Loss: 0.1186, Train Accuracy: 86.99% \n",
            "\n"
          ]
        },
        {
          "output_type": "stream",
          "name": "stderr",
          "text": [
            "100%|██████████| 58/58 [00:00<00:00, 130.02it/s]\n"
          ]
        },
        {
          "output_type": "stream",
          "name": "stdout",
          "text": [
            "Epoch 26/50,  Train Loss: 0.1088, Train Accuracy: 88.02% \n",
            "\n"
          ]
        },
        {
          "output_type": "stream",
          "name": "stderr",
          "text": [
            "100%|██████████| 58/58 [00:00<00:00, 128.07it/s]\n"
          ]
        },
        {
          "output_type": "stream",
          "name": "stdout",
          "text": [
            "Epoch 27/50,  Train Loss: 0.1111, Train Accuracy: 87.97% \n",
            "\n"
          ]
        },
        {
          "output_type": "stream",
          "name": "stderr",
          "text": [
            "100%|██████████| 58/58 [00:00<00:00, 126.04it/s]\n"
          ]
        },
        {
          "output_type": "stream",
          "name": "stdout",
          "text": [
            "Epoch 28/50,  Train Loss: 0.1074, Train Accuracy: 87.97% \n",
            "\n"
          ]
        },
        {
          "output_type": "stream",
          "name": "stderr",
          "text": [
            "100%|██████████| 58/58 [00:00<00:00, 128.55it/s]\n"
          ]
        },
        {
          "output_type": "stream",
          "name": "stdout",
          "text": [
            "Epoch 29/50,  Train Loss: 0.1129, Train Accuracy: 87.10% \n",
            "\n"
          ]
        },
        {
          "output_type": "stream",
          "name": "stderr",
          "text": [
            "100%|██████████| 58/58 [00:00<00:00, 124.61it/s]\n"
          ]
        },
        {
          "output_type": "stream",
          "name": "stdout",
          "text": [
            "Epoch 30/50,  Train Loss: 0.1111, Train Accuracy: 88.02% \n",
            "\n"
          ]
        },
        {
          "output_type": "stream",
          "name": "stderr",
          "text": [
            "100%|██████████| 58/58 [00:00<00:00, 133.15it/s]\n"
          ]
        },
        {
          "output_type": "stream",
          "name": "stdout",
          "text": [
            "Epoch 31/50,  Train Loss: 0.1209, Train Accuracy: 88.29% \n",
            "\n"
          ]
        },
        {
          "output_type": "stream",
          "name": "stderr",
          "text": [
            "100%|██████████| 58/58 [00:00<00:00, 141.56it/s]\n"
          ]
        },
        {
          "output_type": "stream",
          "name": "stdout",
          "text": [
            "Epoch 32/50,  Train Loss: 0.1074, Train Accuracy: 87.53% \n",
            "\n"
          ]
        },
        {
          "output_type": "stream",
          "name": "stderr",
          "text": [
            "100%|██████████| 58/58 [00:00<00:00, 138.85it/s]\n"
          ]
        },
        {
          "output_type": "stream",
          "name": "stdout",
          "text": [
            "Epoch 33/50,  Train Loss: 0.0994, Train Accuracy: 89.59% \n",
            "\n"
          ]
        },
        {
          "output_type": "stream",
          "name": "stderr",
          "text": [
            "100%|██████████| 58/58 [00:00<00:00, 140.64it/s]\n"
          ]
        },
        {
          "output_type": "stream",
          "name": "stdout",
          "text": [
            "Epoch 34/50,  Train Loss: 0.1005, Train Accuracy: 87.86% \n",
            "\n"
          ]
        },
        {
          "output_type": "stream",
          "name": "stderr",
          "text": [
            "100%|██████████| 58/58 [00:00<00:00, 137.89it/s]\n"
          ]
        },
        {
          "output_type": "stream",
          "name": "stdout",
          "text": [
            "Epoch 35/50,  Train Loss: 0.1001, Train Accuracy: 88.67% \n",
            "\n"
          ]
        },
        {
          "output_type": "stream",
          "name": "stderr",
          "text": [
            "100%|██████████| 58/58 [00:00<00:00, 139.26it/s]\n"
          ]
        },
        {
          "output_type": "stream",
          "name": "stdout",
          "text": [
            "Epoch 36/50,  Train Loss: 0.1002, Train Accuracy: 89.11% \n",
            "\n"
          ]
        },
        {
          "output_type": "stream",
          "name": "stderr",
          "text": [
            "100%|██████████| 58/58 [00:00<00:00, 138.42it/s]\n"
          ]
        },
        {
          "output_type": "stream",
          "name": "stdout",
          "text": [
            "Epoch 37/50,  Train Loss: 0.0976, Train Accuracy: 88.73% \n",
            "\n"
          ]
        },
        {
          "output_type": "stream",
          "name": "stderr",
          "text": [
            "100%|██████████| 58/58 [00:00<00:00, 135.80it/s]\n"
          ]
        },
        {
          "output_type": "stream",
          "name": "stdout",
          "text": [
            "Epoch 38/50,  Train Loss: 0.1037, Train Accuracy: 89.54% \n",
            "\n"
          ]
        },
        {
          "output_type": "stream",
          "name": "stderr",
          "text": [
            "100%|██████████| 58/58 [00:00<00:00, 140.86it/s]\n"
          ]
        },
        {
          "output_type": "stream",
          "name": "stdout",
          "text": [
            "Epoch 39/50,  Train Loss: 0.0944, Train Accuracy: 89.92% \n",
            "\n"
          ]
        },
        {
          "output_type": "stream",
          "name": "stderr",
          "text": [
            "100%|██████████| 58/58 [00:00<00:00, 138.69it/s]\n"
          ]
        },
        {
          "output_type": "stream",
          "name": "stdout",
          "text": [
            "Epoch 40/50,  Train Loss: 0.0957, Train Accuracy: 89.49% \n",
            "\n"
          ]
        },
        {
          "output_type": "stream",
          "name": "stderr",
          "text": [
            "100%|██████████| 58/58 [00:00<00:00, 139.93it/s]\n"
          ]
        },
        {
          "output_type": "stream",
          "name": "stdout",
          "text": [
            "Epoch 41/50,  Train Loss: 0.0964, Train Accuracy: 89.05% \n",
            "\n"
          ]
        },
        {
          "output_type": "stream",
          "name": "stderr",
          "text": [
            "100%|██████████| 58/58 [00:00<00:00, 139.51it/s]\n"
          ]
        },
        {
          "output_type": "stream",
          "name": "stdout",
          "text": [
            "Epoch 42/50,  Train Loss: 0.0894, Train Accuracy: 89.81% \n",
            "\n"
          ]
        },
        {
          "output_type": "stream",
          "name": "stderr",
          "text": [
            "100%|██████████| 58/58 [00:00<00:00, 139.54it/s]\n"
          ]
        },
        {
          "output_type": "stream",
          "name": "stdout",
          "text": [
            "Epoch 43/50,  Train Loss: 0.0996, Train Accuracy: 89.76% \n",
            "\n"
          ]
        },
        {
          "output_type": "stream",
          "name": "stderr",
          "text": [
            "100%|██████████| 58/58 [00:00<00:00, 140.25it/s]\n"
          ]
        },
        {
          "output_type": "stream",
          "name": "stdout",
          "text": [
            "Epoch 44/50,  Train Loss: 0.0895, Train Accuracy: 90.08% \n",
            "\n"
          ]
        },
        {
          "output_type": "stream",
          "name": "stderr",
          "text": [
            "100%|██████████| 58/58 [00:00<00:00, 136.98it/s]\n"
          ]
        },
        {
          "output_type": "stream",
          "name": "stdout",
          "text": [
            "Epoch 45/50,  Train Loss: 0.0890, Train Accuracy: 90.35% \n",
            "\n"
          ]
        },
        {
          "output_type": "stream",
          "name": "stderr",
          "text": [
            "100%|██████████| 58/58 [00:00<00:00, 139.74it/s]\n"
          ]
        },
        {
          "output_type": "stream",
          "name": "stdout",
          "text": [
            "Epoch 46/50,  Train Loss: 0.0982, Train Accuracy: 89.65% \n",
            "\n"
          ]
        },
        {
          "output_type": "stream",
          "name": "stderr",
          "text": [
            "100%|██████████| 58/58 [00:00<00:00, 139.58it/s]\n"
          ]
        },
        {
          "output_type": "stream",
          "name": "stdout",
          "text": [
            "Epoch 47/50,  Train Loss: 0.0867, Train Accuracy: 91.33% \n",
            "\n"
          ]
        },
        {
          "output_type": "stream",
          "name": "stderr",
          "text": [
            "100%|██████████| 58/58 [00:00<00:00, 140.13it/s]\n"
          ]
        },
        {
          "output_type": "stream",
          "name": "stdout",
          "text": [
            "Epoch 48/50,  Train Loss: 0.0944, Train Accuracy: 90.19% \n",
            "\n"
          ]
        },
        {
          "output_type": "stream",
          "name": "stderr",
          "text": [
            "100%|██████████| 58/58 [00:00<00:00, 134.86it/s]\n"
          ]
        },
        {
          "output_type": "stream",
          "name": "stdout",
          "text": [
            "Epoch 49/50,  Train Loss: 0.0901, Train Accuracy: 90.08% \n",
            "\n"
          ]
        },
        {
          "output_type": "stream",
          "name": "stderr",
          "text": [
            "100%|██████████| 58/58 [00:00<00:00, 138.58it/s]"
          ]
        },
        {
          "output_type": "stream",
          "name": "stdout",
          "text": [
            "Epoch 50/50,  Train Loss: 0.0847, Train Accuracy: 90.68% \n",
            "\n",
            "Accuracy on the test set: 84.88%\n"
          ]
        },
        {
          "output_type": "stream",
          "name": "stderr",
          "text": [
            "\n"
          ]
        }
      ]
    },
    {
      "cell_type": "markdown",
      "source": [
        "#### I used same architecture for the BiLSTM model and as you see the BiLSTM has better performance. I got accuracy 91.33% train and 84.88% test accuracy. That is more better than LSTM model with accuracy 79% and the FC model (the baseline) with 76% ."
      ],
      "metadata": {
        "id": "2Iwu9qPV2t9B"
      }
    },
    {
      "cell_type": "markdown",
      "source": [
        "# Part E"
      ],
      "metadata": {
        "id": "I_DCGWSJm5il"
      }
    },
    {
      "cell_type": "markdown",
      "source": [
        "### LSTM Cross Validation"
      ],
      "metadata": {
        "id": "7BJkPJ14srBR"
      }
    },
    {
      "cell_type": "code",
      "source": [
        "# Initialize the LSTM model input_size = 40\n",
        "input_size = X_train_tensor.shape[2]\n",
        "\n",
        "# The number of features in the hidden state\n",
        "hidden_size = 128\n",
        "\n",
        "# Two stacked LSTM\n",
        "num_layers = 2\n",
        "\n",
        "# Binary classification\n",
        "output_size = 1\n",
        "lstm_model = LSTMClassifier(input_size, hidden_size, num_layers, output_size).to(device)\n",
        "\n",
        "# Define loss function and optimizer\n",
        "criterion = nn.BCEWithLogitsLoss(pos_weight=pos_weight).to(device)\n",
        "optimizer = optim.Adam(lstm_model.parameters(), lr=0.001)\n",
        "\n",
        "\n",
        "# k-fold cross-validation\n",
        "num_folds = 5\n",
        "skf = StratifiedKFold(n_splits=num_folds, shuffle=True, random_state=42)\n",
        "\n",
        "# create array to store accs\n",
        "all_accuracies = []\n",
        "\n",
        "X_tensor = torch.tensor(X_LSTM, dtype=torch.float32)\n",
        "y_tensor = torch.tensor(y, dtype=torch.float32)\n",
        "\n",
        "# Perform k-fold cross-validation\n",
        "for fold, (train_index, test_index) in enumerate(skf.split(X_tensor, y_tensor)):\n",
        "    print(f\"Fold {fold + 1}/{num_folds}\")\n",
        "\n",
        "    # Split the data into training and testing sets for this fold\n",
        "    X_train_fold, X_test_fold = X_tensor[train_index], X_tensor[test_index]\n",
        "    y_train_fold, y_test_fold = y_tensor[train_index], y_tensor[test_index]\n",
        "\n",
        "    # Create DataLoader for training set\n",
        "    train_dataset = TensorDataset(X_train_fold, y_train_fold)\n",
        "    train_loader = DataLoader(train_dataset, batch_size=32, shuffle=True)\n",
        "\n",
        "    # Train the LSTM model\n",
        "    num_epochs = 50\n",
        "    for epoch in range(num_epochs):\n",
        "        lstm_model.train()\n",
        "        total_loss = 0.0\n",
        "\n",
        "        for batch_X, batch_y in train_loader:\n",
        "            batch_X, batch_y = batch_X.to(device), batch_y.to(device)\n",
        "\n",
        "            optimizer.zero_grad()\n",
        "            outputs = lstm_model(batch_X)\n",
        "            loss = criterion(outputs, batch_y.view(-1, 1))\n",
        "            loss.backward()\n",
        "            optimizer.step()\n",
        "\n",
        "            total_loss += loss.item()\n",
        "\n",
        "        average_loss = total_loss / len(train_loader)\n",
        "        print(f\"Epoch {epoch + 1}/{num_epochs}, Loss: {average_loss:.4f}\")\n",
        "\n",
        "    # Evaluate the LSTM model on the test set for this fold\n",
        "    with torch.no_grad():\n",
        "        lstm_model.eval()\n",
        "        X_test_fold, y_test_fold = X_test_fold.to(device), y_test_fold.to(device)\n",
        "        test_outputs = bilstm_model(X_test_fold)\n",
        "        predicted_labels = (lstm_model.sigmoid(test_outputs) >= 0.5).float()\n",
        "        accuracy_fold = accuracy_score(y_test_fold.cpu().numpy(), predicted_labels.cpu().numpy())\n",
        "        all_accuracies.append(accuracy_fold)\n",
        "\n",
        "        print(f\"Test Accuracy on Fold {fold + 1}: {accuracy_fold * 100:.2f}%\")\n",
        "\n",
        "# Print overall performance metrics\n",
        "average_accuracy = np.mean(all_accuracies)\n",
        "print(f\"\\nAverage Accuracy: {average_accuracy * 100:.2f}%\")"
      ],
      "metadata": {
        "colab": {
          "base_uri": "https://localhost:8080/"
        },
        "id": "6yiJSd9VsRi7",
        "outputId": "a0139245-8927-4476-cf22-6bb9b7ec7a0f"
      },
      "execution_count": 48,
      "outputs": [
        {
          "output_type": "stream",
          "name": "stdout",
          "text": [
            "Fold 1/5\n",
            "Epoch 1/50, Loss: 0.3328\n",
            "Epoch 2/50, Loss: 0.3329\n",
            "Epoch 3/50, Loss: 0.3321\n",
            "Epoch 4/50, Loss: 0.3339\n",
            "Epoch 5/50, Loss: 0.3339\n",
            "Epoch 6/50, Loss: 0.3338\n",
            "Epoch 7/50, Loss: 0.3328\n",
            "Epoch 8/50, Loss: 0.3348\n",
            "Epoch 9/50, Loss: 0.3331\n",
            "Epoch 10/50, Loss: 0.3312\n",
            "Epoch 11/50, Loss: 0.3323\n",
            "Epoch 12/50, Loss: 0.3330\n",
            "Epoch 13/50, Loss: 0.3321\n",
            "Epoch 14/50, Loss: 0.3347\n",
            "Epoch 15/50, Loss: 0.3347\n",
            "Epoch 16/50, Loss: 0.3321\n",
            "Epoch 17/50, Loss: 0.3329\n",
            "Epoch 18/50, Loss: 0.3330\n",
            "Epoch 19/50, Loss: 0.3356\n",
            "Epoch 20/50, Loss: 0.3338\n",
            "Epoch 21/50, Loss: 0.3338\n",
            "Epoch 22/50, Loss: 0.3330\n",
            "Epoch 23/50, Loss: 0.3321\n",
            "Epoch 24/50, Loss: 0.3329\n",
            "Epoch 25/50, Loss: 0.3329\n",
            "Epoch 26/50, Loss: 0.3321\n",
            "Epoch 27/50, Loss: 0.3329\n",
            "Epoch 28/50, Loss: 0.3320\n",
            "Epoch 29/50, Loss: 0.3329\n",
            "Epoch 30/50, Loss: 0.3338\n",
            "Epoch 31/50, Loss: 0.3329\n",
            "Epoch 32/50, Loss: 0.3329\n",
            "Epoch 33/50, Loss: 0.3320\n",
            "Epoch 34/50, Loss: 0.3338\n",
            "Epoch 35/50, Loss: 0.3320\n",
            "Epoch 36/50, Loss: 0.3321\n",
            "Epoch 37/50, Loss: 0.3347\n",
            "Epoch 38/50, Loss: 0.3329\n",
            "Epoch 39/50, Loss: 0.3320\n",
            "Epoch 40/50, Loss: 0.3329\n",
            "Epoch 41/50, Loss: 0.3320\n",
            "Epoch 42/50, Loss: 0.3320\n",
            "Epoch 43/50, Loss: 0.3312\n",
            "Epoch 44/50, Loss: 0.3320\n",
            "Epoch 45/50, Loss: 0.3338\n",
            "Epoch 46/50, Loss: 0.3320\n",
            "Epoch 47/50, Loss: 0.3320\n",
            "Epoch 48/50, Loss: 0.3312\n",
            "Epoch 49/50, Loss: 0.3329\n",
            "Epoch 50/50, Loss: 0.3329\n",
            "Test Accuracy on Fold 1: 91.71%\n",
            "Fold 2/5\n",
            "Epoch 1/50, Loss: 0.3321\n",
            "Epoch 2/50, Loss: 0.3311\n",
            "Epoch 3/50, Loss: 0.3329\n",
            "Epoch 4/50, Loss: 0.3329\n",
            "Epoch 5/50, Loss: 0.3329\n",
            "Epoch 6/50, Loss: 0.3329\n",
            "Epoch 7/50, Loss: 0.3329\n",
            "Epoch 8/50, Loss: 0.3329\n",
            "Epoch 9/50, Loss: 0.3338\n",
            "Epoch 10/50, Loss: 0.3321\n",
            "Epoch 11/50, Loss: 0.3329\n",
            "Epoch 12/50, Loss: 0.3338\n",
            "Epoch 13/50, Loss: 0.3329\n",
            "Epoch 14/50, Loss: 0.3320\n",
            "Epoch 15/50, Loss: 0.3338\n",
            "Epoch 16/50, Loss: 0.3320\n",
            "Epoch 17/50, Loss: 0.3320\n",
            "Epoch 18/50, Loss: 0.3312\n",
            "Epoch 19/50, Loss: 0.3311\n",
            "Epoch 20/50, Loss: 0.3320\n",
            "Epoch 21/50, Loss: 0.3311\n",
            "Epoch 22/50, Loss: 0.3330\n",
            "Epoch 23/50, Loss: 0.3329\n",
            "Epoch 24/50, Loss: 0.3320\n",
            "Epoch 25/50, Loss: 0.3320\n",
            "Epoch 26/50, Loss: 0.3311\n",
            "Epoch 27/50, Loss: 0.3320\n",
            "Epoch 28/50, Loss: 0.3311\n",
            "Epoch 29/50, Loss: 0.3321\n",
            "Epoch 30/50, Loss: 0.3321\n",
            "Epoch 31/50, Loss: 0.3329\n",
            "Epoch 32/50, Loss: 0.3338\n",
            "Epoch 33/50, Loss: 0.3329\n",
            "Epoch 34/50, Loss: 0.3338\n",
            "Epoch 35/50, Loss: 0.3320\n",
            "Epoch 36/50, Loss: 0.3320\n",
            "Epoch 37/50, Loss: 0.3320\n",
            "Epoch 38/50, Loss: 0.3329\n",
            "Epoch 39/50, Loss: 0.3329\n",
            "Epoch 40/50, Loss: 0.3330\n",
            "Epoch 41/50, Loss: 0.3329\n",
            "Epoch 42/50, Loss: 0.3320\n",
            "Epoch 43/50, Loss: 0.3320\n",
            "Epoch 44/50, Loss: 0.3311\n",
            "Epoch 45/50, Loss: 0.3321\n",
            "Epoch 46/50, Loss: 0.3329\n",
            "Epoch 47/50, Loss: 0.3311\n",
            "Epoch 48/50, Loss: 0.3320\n",
            "Epoch 49/50, Loss: 0.3348\n",
            "Epoch 50/50, Loss: 0.3330\n",
            "Test Accuracy on Fold 2: 88.29%\n",
            "Fold 3/5\n",
            "Epoch 1/50, Loss: 0.3326\n",
            "Epoch 2/50, Loss: 0.3317\n",
            "Epoch 3/50, Loss: 0.3317\n",
            "Epoch 4/50, Loss: 0.3317\n",
            "Epoch 5/50, Loss: 0.3326\n",
            "Epoch 6/50, Loss: 0.3335\n",
            "Epoch 7/50, Loss: 0.3317\n",
            "Epoch 8/50, Loss: 0.3327\n",
            "Epoch 9/50, Loss: 0.3335\n",
            "Epoch 10/50, Loss: 0.3318\n",
            "Epoch 11/50, Loss: 0.3326\n",
            "Epoch 12/50, Loss: 0.3335\n",
            "Epoch 13/50, Loss: 0.3317\n",
            "Epoch 14/50, Loss: 0.3318\n",
            "Epoch 15/50, Loss: 0.3326\n",
            "Epoch 16/50, Loss: 0.3309\n",
            "Epoch 17/50, Loss: 0.3308\n",
            "Epoch 18/50, Loss: 0.3344\n",
            "Epoch 19/50, Loss: 0.3335\n",
            "Epoch 20/50, Loss: 0.3308\n",
            "Epoch 21/50, Loss: 0.3317\n",
            "Epoch 22/50, Loss: 0.3335\n",
            "Epoch 23/50, Loss: 0.3317\n",
            "Epoch 24/50, Loss: 0.3336\n",
            "Epoch 25/50, Loss: 0.3327\n",
            "Epoch 26/50, Loss: 0.3335\n",
            "Epoch 27/50, Loss: 0.3335\n",
            "Epoch 28/50, Loss: 0.3317\n",
            "Epoch 29/50, Loss: 0.3309\n",
            "Epoch 30/50, Loss: 0.3326\n",
            "Epoch 31/50, Loss: 0.3308\n",
            "Epoch 32/50, Loss: 0.3317\n",
            "Epoch 33/50, Loss: 0.3345\n",
            "Epoch 34/50, Loss: 0.3344\n",
            "Epoch 35/50, Loss: 0.3317\n",
            "Epoch 36/50, Loss: 0.3326\n",
            "Epoch 37/50, Loss: 0.3309\n",
            "Epoch 38/50, Loss: 0.3317\n",
            "Epoch 39/50, Loss: 0.3335\n",
            "Epoch 40/50, Loss: 0.3326\n",
            "Epoch 41/50, Loss: 0.3326\n",
            "Epoch 42/50, Loss: 0.3335\n",
            "Epoch 43/50, Loss: 0.3326\n",
            "Epoch 44/50, Loss: 0.3317\n",
            "Epoch 45/50, Loss: 0.3326\n",
            "Epoch 46/50, Loss: 0.3317\n",
            "Epoch 47/50, Loss: 0.3326\n",
            "Epoch 48/50, Loss: 0.3318\n",
            "Epoch 49/50, Loss: 0.3317\n",
            "Epoch 50/50, Loss: 0.3326\n",
            "Test Accuracy on Fold 3: 93.17%\n",
            "Fold 4/5\n",
            "Epoch 1/50, Loss: 0.3326\n",
            "Epoch 2/50, Loss: 0.3309\n",
            "Epoch 3/50, Loss: 0.3345\n",
            "Epoch 4/50, Loss: 0.3309\n",
            "Epoch 5/50, Loss: 0.3335\n",
            "Epoch 6/50, Loss: 0.3344\n",
            "Epoch 7/50, Loss: 0.3335\n",
            "Epoch 8/50, Loss: 0.3318\n",
            "Epoch 9/50, Loss: 0.3308\n",
            "Epoch 10/50, Loss: 0.3308\n",
            "Epoch 11/50, Loss: 0.3326\n",
            "Epoch 12/50, Loss: 0.3318\n",
            "Epoch 13/50, Loss: 0.3308\n",
            "Epoch 14/50, Loss: 0.3326\n",
            "Epoch 15/50, Loss: 0.3317\n",
            "Epoch 16/50, Loss: 0.3327\n",
            "Epoch 17/50, Loss: 0.3317\n",
            "Epoch 18/50, Loss: 0.3326\n",
            "Epoch 19/50, Loss: 0.3318\n",
            "Epoch 20/50, Loss: 0.3317\n",
            "Epoch 21/50, Loss: 0.3326\n",
            "Epoch 22/50, Loss: 0.3317\n",
            "Epoch 23/50, Loss: 0.3326\n",
            "Epoch 24/50, Loss: 0.3335\n",
            "Epoch 25/50, Loss: 0.3326\n",
            "Epoch 26/50, Loss: 0.3335\n",
            "Epoch 27/50, Loss: 0.3317\n",
            "Epoch 28/50, Loss: 0.3326\n",
            "Epoch 29/50, Loss: 0.3326\n",
            "Epoch 30/50, Loss: 0.3309\n",
            "Epoch 31/50, Loss: 0.3326\n",
            "Epoch 32/50, Loss: 0.3335\n",
            "Epoch 33/50, Loss: 0.3335\n",
            "Epoch 34/50, Loss: 0.3326\n",
            "Epoch 35/50, Loss: 0.3335\n",
            "Epoch 36/50, Loss: 0.3326\n",
            "Epoch 37/50, Loss: 0.3317\n",
            "Epoch 38/50, Loss: 0.3335\n",
            "Epoch 39/50, Loss: 0.3335\n",
            "Epoch 40/50, Loss: 0.3318\n",
            "Epoch 41/50, Loss: 0.3326\n",
            "Epoch 42/50, Loss: 0.3362\n",
            "Epoch 43/50, Loss: 0.3318\n",
            "Epoch 44/50, Loss: 0.3326\n",
            "Epoch 45/50, Loss: 0.3327\n",
            "Epoch 46/50, Loss: 0.3326\n",
            "Epoch 47/50, Loss: 0.3318\n",
            "Epoch 48/50, Loss: 0.3318\n",
            "Epoch 49/50, Loss: 0.3317\n",
            "Epoch 50/50, Loss: 0.3317\n",
            "Test Accuracy on Fold 4: 91.46%\n",
            "Fold 5/5\n",
            "Epoch 1/50, Loss: 0.3344\n",
            "Epoch 2/50, Loss: 0.3309\n",
            "Epoch 3/50, Loss: 0.3353\n",
            "Epoch 4/50, Loss: 0.3326\n",
            "Epoch 5/50, Loss: 0.3335\n",
            "Epoch 6/50, Loss: 0.3317\n",
            "Epoch 7/50, Loss: 0.3326\n",
            "Epoch 8/50, Loss: 0.3326\n",
            "Epoch 9/50, Loss: 0.3309\n",
            "Epoch 10/50, Loss: 0.3326\n",
            "Epoch 11/50, Loss: 0.3308\n",
            "Epoch 12/50, Loss: 0.3335\n",
            "Epoch 13/50, Loss: 0.3344\n",
            "Epoch 14/50, Loss: 0.3317\n",
            "Epoch 15/50, Loss: 0.3344\n",
            "Epoch 16/50, Loss: 0.3309\n",
            "Epoch 17/50, Loss: 0.3344\n",
            "Epoch 18/50, Loss: 0.3317\n",
            "Epoch 19/50, Loss: 0.3318\n",
            "Epoch 20/50, Loss: 0.3318\n",
            "Epoch 21/50, Loss: 0.3308\n",
            "Epoch 22/50, Loss: 0.3317\n",
            "Epoch 23/50, Loss: 0.3326\n",
            "Epoch 24/50, Loss: 0.3335\n",
            "Epoch 25/50, Loss: 0.3318\n",
            "Epoch 26/50, Loss: 0.3326\n",
            "Epoch 27/50, Loss: 0.3326\n",
            "Epoch 28/50, Loss: 0.3335\n",
            "Epoch 29/50, Loss: 0.3317\n",
            "Epoch 30/50, Loss: 0.3326\n",
            "Epoch 31/50, Loss: 0.3317\n",
            "Epoch 32/50, Loss: 0.3317\n",
            "Epoch 33/50, Loss: 0.3326\n",
            "Epoch 34/50, Loss: 0.3335\n",
            "Epoch 35/50, Loss: 0.3344\n",
            "Epoch 36/50, Loss: 0.3344\n",
            "Epoch 37/50, Loss: 0.3318\n",
            "Epoch 38/50, Loss: 0.3326\n",
            "Epoch 39/50, Loss: 0.3335\n",
            "Epoch 40/50, Loss: 0.3318\n",
            "Epoch 41/50, Loss: 0.3317\n",
            "Epoch 42/50, Loss: 0.3308\n",
            "Epoch 43/50, Loss: 0.3318\n",
            "Epoch 44/50, Loss: 0.3317\n",
            "Epoch 45/50, Loss: 0.3335\n",
            "Epoch 46/50, Loss: 0.3318\n",
            "Epoch 47/50, Loss: 0.3336\n",
            "Epoch 48/50, Loss: 0.3326\n",
            "Epoch 49/50, Loss: 0.3326\n",
            "Epoch 50/50, Loss: 0.3326\n",
            "Test Accuracy on Fold 5: 88.54%\n",
            "\n",
            "Average Accuracy: 90.63%\n"
          ]
        }
      ]
    },
    {
      "cell_type": "code",
      "source": [
        "np.std([88.54,91.46,93.17,88.29,91.71])"
      ],
      "metadata": {
        "colab": {
          "base_uri": "https://localhost:8080/"
        },
        "id": "XuOtdDf368Wl",
        "outputId": "a9c8753b-92ca-4cbd-924d-0a0de50cf849"
      },
      "execution_count": 50,
      "outputs": [
        {
          "output_type": "execute_result",
          "data": {
            "text/plain": [
              "1.9052831810520938"
            ]
          },
          "metadata": {},
          "execution_count": 50
        }
      ]
    },
    {
      "cell_type": "markdown",
      "source": [
        "#### As you see with 5-fold cross validation the LSTM model average accuracy is 90.63% (-+ 1.90%) and the top accuracy is 93.17% ."
      ],
      "metadata": {
        "id": "2kRuVECG55D6"
      }
    },
    {
      "cell_type": "markdown",
      "source": [
        "### BiLSTM Cross Validation"
      ],
      "metadata": {
        "id": "CQd2jUsXsSfX"
      }
    },
    {
      "cell_type": "code",
      "source": [
        "# Initialize the BiLSTM model input_size = 40\n",
        "input_size = X_train_tensor.shape[2]\n",
        "\n",
        "# Reduced hidden size for bidirectional\n",
        "hidden_size = 64\n",
        "num_layers = 2\n",
        "output_size = 1\n",
        "\n",
        "bilstm_model = BiLSTMClassifier(input_size, hidden_size, num_layers, output_size).to(device)\n",
        "\n",
        "# Define loss function and optimizer\n",
        "criterion = nn.BCEWithLogitsLoss(pos_weight=pos_weight).to(device)\n",
        "optimizer = optim.Adam(bilstm_model.parameters(), lr=0.001)\n",
        "\n",
        "# k-fold cross-validation\n",
        "num_folds = 5\n",
        "skf = StratifiedKFold(n_splits=num_folds, shuffle=True, random_state=40)\n",
        "\n",
        "# create arrays to store accs\n",
        "all_accuracies = []\n",
        "\n",
        "X_tensor = torch.tensor(X_LSTM, dtype=torch.float32)\n",
        "y_tensor = torch.tensor(y, dtype=torch.float32)\n",
        "\n",
        "# Perform k-fold cross-validation\n",
        "for fold, (train_index, test_index) in enumerate(skf.split(X_tensor, y_tensor)):\n",
        "    print(f\"Fold {fold + 1}/{num_folds}\")\n",
        "\n",
        "    # Split the data into training and testing sets for this fold\n",
        "    X_train_fold, X_test_fold = X_tensor[train_index], X_tensor[test_index]\n",
        "    y_train_fold, y_test_fold = y_tensor[train_index], y_tensor[test_index]\n",
        "\n",
        "    # Create DataLoader for training set\n",
        "    train_dataset = TensorDataset(X_train_fold, y_train_fold)\n",
        "    train_loader = DataLoader(train_dataset, batch_size=32, shuffle=True)\n",
        "\n",
        "    # Train the BiLSTM model\n",
        "    num_epochs = 50\n",
        "    for epoch in range(num_epochs):\n",
        "        bilstm_model.train()\n",
        "        total_loss = 0.0\n",
        "\n",
        "        for batch_X, batch_y in train_loader:\n",
        "            batch_X, batch_y = batch_X.to(device), batch_y.to(device)\n",
        "\n",
        "            optimizer.zero_grad()\n",
        "            outputs = bilstm_model(batch_X)\n",
        "            loss = criterion(outputs, batch_y.view(-1, 1))\n",
        "            loss.backward()\n",
        "            optimizer.step()\n",
        "\n",
        "            total_loss += loss.item()\n",
        "\n",
        "        average_loss = total_loss / len(train_loader)\n",
        "        print(f\"Epoch {epoch + 1}/{num_epochs}, Loss: {average_loss:.4f}\")\n",
        "\n",
        "    # Evaluate the BiLSTM model on the test set for this fold\n",
        "    with torch.no_grad():\n",
        "        bilstm_model.eval()\n",
        "        X_test_fold, y_test_fold = X_test_fold.to(device), y_test_fold.to(device)\n",
        "        test_outputs = bilstm_model(X_test_fold)\n",
        "        predicted_labels = (bilstm_model.sigmoid(test_outputs) >= 0.5).float()\n",
        "        accuracy_fold = accuracy_score(y_test_fold.cpu().numpy(), predicted_labels.cpu().numpy())\n",
        "        all_accuracies.append(accuracy_fold)\n",
        "\n",
        "        print(f\"Test Accuracy on Fold {fold + 1}: {accuracy_fold * 100:.2f}%\")\n",
        "\n",
        "# Print overall performance metrics\n",
        "average_accuracy = np.mean(all_accuracies)\n",
        "print(f\"\\nAverage Accuracy: {average_accuracy * 100:.2f}%\")"
      ],
      "metadata": {
        "colab": {
          "base_uri": "https://localhost:8080/"
        },
        "id": "QZY7jQq5m_eU",
        "outputId": "e64a31b7-4b54-4a95-8002-9ad34d49ccb5"
      },
      "execution_count": 49,
      "outputs": [
        {
          "output_type": "stream",
          "name": "stdout",
          "text": [
            "Fold 1/5\n",
            "Epoch 1/50, Loss: 0.3327\n",
            "Epoch 2/50, Loss: 0.2900\n",
            "Epoch 3/50, Loss: 0.2041\n",
            "Epoch 4/50, Loss: 0.1955\n",
            "Epoch 5/50, Loss: 0.1709\n",
            "Epoch 6/50, Loss: 0.1711\n",
            "Epoch 7/50, Loss: 0.1957\n",
            "Epoch 8/50, Loss: 0.1554\n",
            "Epoch 9/50, Loss: 0.1573\n",
            "Epoch 10/50, Loss: 0.1419\n",
            "Epoch 11/50, Loss: 0.1609\n",
            "Epoch 12/50, Loss: 0.1384\n",
            "Epoch 13/50, Loss: 0.1343\n",
            "Epoch 14/50, Loss: 0.1333\n",
            "Epoch 15/50, Loss: 0.1287\n",
            "Epoch 16/50, Loss: 0.1319\n",
            "Epoch 17/50, Loss: 0.1277\n",
            "Epoch 18/50, Loss: 0.1547\n",
            "Epoch 19/50, Loss: 0.1350\n",
            "Epoch 20/50, Loss: 0.1208\n",
            "Epoch 21/50, Loss: 0.1272\n",
            "Epoch 22/50, Loss: 0.1227\n",
            "Epoch 23/50, Loss: 0.1314\n",
            "Epoch 24/50, Loss: 0.1239\n",
            "Epoch 25/50, Loss: 0.1734\n",
            "Epoch 26/50, Loss: 0.1569\n",
            "Epoch 27/50, Loss: 0.1342\n",
            "Epoch 28/50, Loss: 0.1198\n",
            "Epoch 29/50, Loss: 0.1201\n",
            "Epoch 30/50, Loss: 0.1273\n",
            "Epoch 31/50, Loss: 0.1134\n",
            "Epoch 32/50, Loss: 0.1118\n",
            "Epoch 33/50, Loss: 0.1263\n",
            "Epoch 34/50, Loss: 0.1168\n",
            "Epoch 35/50, Loss: 0.1275\n",
            "Epoch 36/50, Loss: 0.1289\n",
            "Epoch 37/50, Loss: 0.1314\n",
            "Epoch 38/50, Loss: 0.1241\n",
            "Epoch 39/50, Loss: 0.1129\n",
            "Epoch 40/50, Loss: 0.1105\n",
            "Epoch 41/50, Loss: 0.1130\n",
            "Epoch 42/50, Loss: 0.1135\n",
            "Epoch 43/50, Loss: 0.1109\n",
            "Epoch 44/50, Loss: 0.1086\n",
            "Epoch 45/50, Loss: 0.1101\n",
            "Epoch 46/50, Loss: 0.1161\n",
            "Epoch 47/50, Loss: 0.1141\n",
            "Epoch 48/50, Loss: 0.1064\n",
            "Epoch 49/50, Loss: 0.1171\n",
            "Epoch 50/50, Loss: 0.1059\n",
            "Test Accuracy on Fold 1: 87.32%\n",
            "Fold 2/5\n",
            "Epoch 1/50, Loss: 0.1111\n",
            "Epoch 2/50, Loss: 0.1069\n",
            "Epoch 3/50, Loss: 0.1074\n",
            "Epoch 4/50, Loss: 0.1193\n",
            "Epoch 5/50, Loss: 0.1145\n",
            "Epoch 6/50, Loss: 0.1042\n",
            "Epoch 7/50, Loss: 0.1062\n",
            "Epoch 8/50, Loss: 0.1003\n",
            "Epoch 9/50, Loss: 0.1000\n",
            "Epoch 10/50, Loss: 0.1003\n",
            "Epoch 11/50, Loss: 0.1069\n",
            "Epoch 12/50, Loss: 0.0983\n",
            "Epoch 13/50, Loss: 0.0965\n",
            "Epoch 14/50, Loss: 0.0965\n",
            "Epoch 15/50, Loss: 0.0913\n",
            "Epoch 16/50, Loss: 0.0963\n",
            "Epoch 17/50, Loss: 0.1025\n",
            "Epoch 18/50, Loss: 0.0973\n",
            "Epoch 19/50, Loss: 0.0869\n",
            "Epoch 20/50, Loss: 0.0896\n",
            "Epoch 21/50, Loss: 0.1093\n",
            "Epoch 22/50, Loss: 0.0990\n",
            "Epoch 23/50, Loss: 0.0966\n",
            "Epoch 24/50, Loss: 0.0986\n",
            "Epoch 25/50, Loss: 0.0942\n",
            "Epoch 26/50, Loss: 0.0975\n",
            "Epoch 27/50, Loss: 0.0909\n",
            "Epoch 28/50, Loss: 0.0816\n",
            "Epoch 29/50, Loss: 0.0838\n",
            "Epoch 30/50, Loss: 0.0950\n",
            "Epoch 31/50, Loss: 0.0922\n",
            "Epoch 32/50, Loss: 0.0842\n",
            "Epoch 33/50, Loss: 0.0941\n",
            "Epoch 34/50, Loss: 0.0908\n",
            "Epoch 35/50, Loss: 0.0946\n",
            "Epoch 36/50, Loss: 0.0828\n",
            "Epoch 37/50, Loss: 0.0791\n",
            "Epoch 38/50, Loss: 0.0830\n",
            "Epoch 39/50, Loss: 0.0777\n",
            "Epoch 40/50, Loss: 0.0748\n",
            "Epoch 41/50, Loss: 0.0720\n",
            "Epoch 42/50, Loss: 0.0668\n",
            "Epoch 43/50, Loss: 0.0934\n",
            "Epoch 44/50, Loss: 0.0773\n",
            "Epoch 45/50, Loss: 0.0711\n",
            "Epoch 46/50, Loss: 0.0653\n",
            "Epoch 47/50, Loss: 0.0666\n",
            "Epoch 48/50, Loss: 0.0650\n",
            "Epoch 49/50, Loss: 0.0767\n",
            "Epoch 50/50, Loss: 0.0710\n",
            "Test Accuracy on Fold 2: 89.51%\n",
            "Fold 3/5\n",
            "Epoch 1/50, Loss: 0.0902\n",
            "Epoch 2/50, Loss: 0.0822\n",
            "Epoch 3/50, Loss: 0.0793\n",
            "Epoch 4/50, Loss: 0.0681\n",
            "Epoch 5/50, Loss: 0.0740\n",
            "Epoch 6/50, Loss: 0.0749\n",
            "Epoch 7/50, Loss: 0.0823\n",
            "Epoch 8/50, Loss: 0.0623\n",
            "Epoch 9/50, Loss: 0.0586\n",
            "Epoch 10/50, Loss: 0.0552\n",
            "Epoch 11/50, Loss: 0.0667\n",
            "Epoch 12/50, Loss: 0.0635\n",
            "Epoch 13/50, Loss: 0.0757\n",
            "Epoch 14/50, Loss: 0.0670\n",
            "Epoch 15/50, Loss: 0.0554\n",
            "Epoch 16/50, Loss: 0.0469\n",
            "Epoch 17/50, Loss: 0.0496\n",
            "Epoch 18/50, Loss: 0.0465\n",
            "Epoch 19/50, Loss: 0.0450\n",
            "Epoch 20/50, Loss: 0.0673\n",
            "Epoch 21/50, Loss: 0.0527\n",
            "Epoch 22/50, Loss: 0.0747\n",
            "Epoch 23/50, Loss: 0.0775\n",
            "Epoch 24/50, Loss: 0.0620\n",
            "Epoch 25/50, Loss: 0.0546\n",
            "Epoch 26/50, Loss: 0.0424\n",
            "Epoch 27/50, Loss: 0.0522\n",
            "Epoch 28/50, Loss: 0.0410\n",
            "Epoch 29/50, Loss: 0.0597\n",
            "Epoch 30/50, Loss: 0.0385\n",
            "Epoch 31/50, Loss: 0.0387\n",
            "Epoch 32/50, Loss: 0.0357\n",
            "Epoch 33/50, Loss: 0.0797\n",
            "Epoch 34/50, Loss: 0.0465\n",
            "Epoch 35/50, Loss: 0.0447\n",
            "Epoch 36/50, Loss: 0.0458\n",
            "Epoch 37/50, Loss: 0.0455\n",
            "Epoch 38/50, Loss: 0.0371\n",
            "Epoch 39/50, Loss: 0.0417\n",
            "Epoch 40/50, Loss: 0.0439\n",
            "Epoch 41/50, Loss: 0.0302\n",
            "Epoch 42/50, Loss: 0.0382\n",
            "Epoch 43/50, Loss: 0.0521\n",
            "Epoch 44/50, Loss: 0.0558\n",
            "Epoch 45/50, Loss: 0.0470\n",
            "Epoch 46/50, Loss: 0.0322\n",
            "Epoch 47/50, Loss: 0.0302\n",
            "Epoch 48/50, Loss: 0.0358\n",
            "Epoch 49/50, Loss: 0.0400\n",
            "Epoch 50/50, Loss: 0.0296\n",
            "Test Accuracy on Fold 3: 90.49%\n",
            "Fold 4/5\n",
            "Epoch 1/50, Loss: 0.0621\n",
            "Epoch 2/50, Loss: 0.0561\n",
            "Epoch 3/50, Loss: 0.0508\n",
            "Epoch 4/50, Loss: 0.0801\n",
            "Epoch 5/50, Loss: 0.0518\n",
            "Epoch 6/50, Loss: 0.0411\n",
            "Epoch 7/50, Loss: 0.0425\n",
            "Epoch 8/50, Loss: 0.0458\n",
            "Epoch 9/50, Loss: 0.0434\n",
            "Epoch 10/50, Loss: 0.0495\n",
            "Epoch 11/50, Loss: 0.0457\n",
            "Epoch 12/50, Loss: 0.0411\n",
            "Epoch 13/50, Loss: 0.0414\n",
            "Epoch 14/50, Loss: 0.0435\n",
            "Epoch 15/50, Loss: 0.0411\n",
            "Epoch 16/50, Loss: 0.0496\n",
            "Epoch 17/50, Loss: 0.0613\n",
            "Epoch 18/50, Loss: 0.0399\n",
            "Epoch 19/50, Loss: 0.0382\n",
            "Epoch 20/50, Loss: 0.0305\n",
            "Epoch 21/50, Loss: 0.0296\n",
            "Epoch 22/50, Loss: 0.0344\n",
            "Epoch 23/50, Loss: 0.0268\n",
            "Epoch 24/50, Loss: 0.0348\n",
            "Epoch 25/50, Loss: 0.0231\n",
            "Epoch 26/50, Loss: 0.0356\n",
            "Epoch 27/50, Loss: 0.0212\n",
            "Epoch 28/50, Loss: 0.0179\n",
            "Epoch 29/50, Loss: 0.0193\n",
            "Epoch 30/50, Loss: 0.1047\n",
            "Epoch 31/50, Loss: 0.0693\n",
            "Epoch 32/50, Loss: 0.0485\n",
            "Epoch 33/50, Loss: 0.0304\n",
            "Epoch 34/50, Loss: 0.0216\n",
            "Epoch 35/50, Loss: 0.0213\n",
            "Epoch 36/50, Loss: 0.0234\n",
            "Epoch 37/50, Loss: 0.0327\n",
            "Epoch 38/50, Loss: 0.0205\n",
            "Epoch 39/50, Loss: 0.0404\n",
            "Epoch 40/50, Loss: 0.0282\n",
            "Epoch 41/50, Loss: 0.0191\n",
            "Epoch 42/50, Loss: 0.0163\n",
            "Epoch 43/50, Loss: 0.0113\n",
            "Epoch 44/50, Loss: 0.0119\n",
            "Epoch 45/50, Loss: 0.0146\n",
            "Epoch 46/50, Loss: 0.0261\n",
            "Epoch 47/50, Loss: 0.0164\n",
            "Epoch 48/50, Loss: 0.0351\n",
            "Epoch 49/50, Loss: 0.0238\n",
            "Epoch 50/50, Loss: 0.0112\n",
            "Test Accuracy on Fold 4: 95.37%\n",
            "Fold 5/5\n",
            "Epoch 1/50, Loss: 0.0360\n",
            "Epoch 2/50, Loss: 0.0313\n",
            "Epoch 3/50, Loss: 0.0169\n",
            "Epoch 4/50, Loss: 0.0240\n",
            "Epoch 5/50, Loss: 0.0479\n",
            "Epoch 6/50, Loss: 0.0216\n",
            "Epoch 7/50, Loss: 0.0150\n",
            "Epoch 8/50, Loss: 0.0208\n",
            "Epoch 9/50, Loss: 0.0503\n",
            "Epoch 10/50, Loss: 0.0182\n",
            "Epoch 11/50, Loss: 0.0132\n",
            "Epoch 12/50, Loss: 0.0132\n",
            "Epoch 13/50, Loss: 0.0222\n",
            "Epoch 14/50, Loss: 0.0189\n",
            "Epoch 15/50, Loss: 0.0157\n",
            "Epoch 16/50, Loss: 0.0796\n",
            "Epoch 17/50, Loss: 0.0460\n",
            "Epoch 18/50, Loss: 0.0389\n",
            "Epoch 19/50, Loss: 0.0491\n",
            "Epoch 20/50, Loss: 0.0487\n",
            "Epoch 21/50, Loss: 0.0222\n",
            "Epoch 22/50, Loss: 0.0218\n",
            "Epoch 23/50, Loss: 0.0190\n",
            "Epoch 24/50, Loss: 0.0209\n",
            "Epoch 25/50, Loss: 0.0144\n",
            "Epoch 26/50, Loss: 0.0117\n",
            "Epoch 27/50, Loss: 0.0160\n",
            "Epoch 28/50, Loss: 0.0247\n",
            "Epoch 29/50, Loss: 0.0117\n",
            "Epoch 30/50, Loss: 0.0084\n",
            "Epoch 31/50, Loss: 0.0068\n",
            "Epoch 32/50, Loss: 0.0048\n",
            "Epoch 33/50, Loss: 0.0044\n",
            "Epoch 34/50, Loss: 0.0049\n",
            "Epoch 35/50, Loss: 0.0035\n",
            "Epoch 36/50, Loss: 0.0029\n",
            "Epoch 37/50, Loss: 0.0078\n",
            "Epoch 38/50, Loss: 0.0792\n",
            "Epoch 39/50, Loss: 0.0375\n",
            "Epoch 40/50, Loss: 0.0191\n",
            "Epoch 41/50, Loss: 0.0137\n",
            "Epoch 42/50, Loss: 0.0063\n",
            "Epoch 43/50, Loss: 0.0041\n",
            "Epoch 44/50, Loss: 0.0909\n",
            "Epoch 45/50, Loss: 0.0512\n",
            "Epoch 46/50, Loss: 0.0282\n",
            "Epoch 47/50, Loss: 0.0154\n",
            "Epoch 48/50, Loss: 0.0094\n",
            "Epoch 49/50, Loss: 0.0076\n",
            "Epoch 50/50, Loss: 0.0053\n",
            "Test Accuracy on Fold 5: 96.83%\n",
            "\n",
            "Average Accuracy: 91.90%\n"
          ]
        }
      ]
    },
    {
      "cell_type": "code",
      "source": [
        "np.std([87.32,90.49,89.51,96.83,95.37])"
      ],
      "metadata": {
        "colab": {
          "base_uri": "https://localhost:8080/"
        },
        "id": "9UsFCHWR8KeH",
        "outputId": "e593fdca-e170-4489-c5d7-336875274cbc"
      },
      "execution_count": 51,
      "outputs": [
        {
          "output_type": "execute_result",
          "data": {
            "text/plain": [
              "3.6061702677494325"
            ]
          },
          "metadata": {},
          "execution_count": 51
        }
      ]
    },
    {
      "cell_type": "markdown",
      "source": [
        "#### As you see with 5-fold cross validation the BiLSTM model average accuracy is 91.90% (-+ 3.60%) and the top accuracy is 96.83% ."
      ],
      "metadata": {
        "id": "HYS7foSV6A6p"
      }
    },
    {
      "cell_type": "markdown",
      "source": [
        "# Conclusion"
      ],
      "metadata": {
        "id": "K7j0AGKU7hHW"
      }
    },
    {
      "cell_type": "markdown",
      "source": [
        "#### The baseline model(FC model) accuracy is 76.83% and the top train accuracy is 76.34%.\n",
        "\n",
        "#### The LSTM model average accuracy is 90.63% (-+ 1.90%) and the top accuracy is 93.17% .\n",
        "\n",
        "#### The BiLSTM model average accuracy is 91.90% (-+ 3.60 %) and the top accuracy is 96.83% ."
      ],
      "metadata": {
        "id": "E8NYPae17ozG"
      }
    },
    {
      "cell_type": "markdown",
      "source": [
        "#### BiLSTM & LSTM\n",
        "\n",
        "A BiLSTM processes the input sequence in both forward and backward directions. This allows the model to capture contextual information from both the beginning and the end of the sequence.\n",
        "For SMILES formulas, where the order of the tokens can be crucial in determining the molecular structure, having information from both directions can be beneficial.\n",
        "\n",
        "In a LSTM, information from the future is not available when processing a token, potentially leading to information loss.\n",
        "In contrast, a BiLSTM solve this issue by processing tokens in both directions, ensuring that each token has access to information from both past and future tokens.\n",
        "\n",
        "In a word the bidirectional nature of the BiLSTM enables it to learn richer feature representations."
      ],
      "metadata": {
        "id": "9sYTPNF39CcL"
      }
    }
  ]
}